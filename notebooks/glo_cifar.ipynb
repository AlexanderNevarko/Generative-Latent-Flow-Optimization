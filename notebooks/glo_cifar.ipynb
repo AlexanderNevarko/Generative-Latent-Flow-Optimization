{
  "nbformat": 4,
  "nbformat_minor": 5,
  "metadata": {
    "kernelspec": {
      "display_name": "Python 3",
      "language": "python",
      "name": "python3"
    },
    "language_info": {
      "codemirror_mode": {
        "name": "ipython",
        "version": 3
      },
      "file_extension": ".py",
      "mimetype": "text/x-python",
      "name": "python",
      "nbconvert_exporter": "python",
      "pygments_lexer": "ipython3",
      "version": "3.8.3"
    },
    "colab": {
      "name": "glo_cifar.ipynb",
      "provenance": [],
      "collapsed_sections": []
    },
    "accelerator": "GPU",
    "widgets": {
      "application/vnd.jupyter.widget-state+json": {
        "85c9b2fb1f454c4c96e4ddcab1e81446": {
          "model_module": "@jupyter-widgets/controls",
          "model_name": "HBoxModel",
          "model_module_version": "1.5.0",
          "state": {
            "_view_name": "HBoxView",
            "_dom_classes": [],
            "_model_name": "HBoxModel",
            "_view_module": "@jupyter-widgets/controls",
            "_model_module_version": "1.5.0",
            "_view_count": null,
            "_view_module_version": "1.5.0",
            "box_style": "",
            "layout": "IPY_MODEL_3d611e3215814841a5f90f06099ed784",
            "_model_module": "@jupyter-widgets/controls",
            "children": [
              "IPY_MODEL_04d90a98af904ca5aaba761ab9754ddd",
              "IPY_MODEL_2e096acaf6d542879c6bc2dee28f5d34",
              "IPY_MODEL_877fc867777b417b9a233b3c5c868df7"
            ]
          }
        },
        "3d611e3215814841a5f90f06099ed784": {
          "model_module": "@jupyter-widgets/base",
          "model_name": "LayoutModel",
          "model_module_version": "1.2.0",
          "state": {
            "_view_name": "LayoutView",
            "grid_template_rows": null,
            "right": null,
            "justify_content": null,
            "_view_module": "@jupyter-widgets/base",
            "overflow": null,
            "_model_module_version": "1.2.0",
            "_view_count": null,
            "flex_flow": null,
            "width": null,
            "min_width": null,
            "border": null,
            "align_items": null,
            "bottom": null,
            "_model_module": "@jupyter-widgets/base",
            "top": null,
            "grid_column": null,
            "overflow_y": null,
            "overflow_x": null,
            "grid_auto_flow": null,
            "grid_area": null,
            "grid_template_columns": null,
            "flex": null,
            "_model_name": "LayoutModel",
            "justify_items": null,
            "grid_row": null,
            "max_height": null,
            "align_content": null,
            "visibility": null,
            "align_self": null,
            "height": null,
            "min_height": null,
            "padding": null,
            "grid_auto_rows": null,
            "grid_gap": null,
            "max_width": null,
            "order": null,
            "_view_module_version": "1.2.0",
            "grid_template_areas": null,
            "object_position": null,
            "object_fit": null,
            "grid_auto_columns": null,
            "margin": null,
            "display": null,
            "left": null
          }
        },
        "04d90a98af904ca5aaba761ab9754ddd": {
          "model_module": "@jupyter-widgets/controls",
          "model_name": "HTMLModel",
          "model_module_version": "1.5.0",
          "state": {
            "_view_name": "HTMLView",
            "style": "IPY_MODEL_c714870e50914021817b4e4f52bf65ba",
            "_dom_classes": [],
            "description": "",
            "_model_name": "HTMLModel",
            "placeholder": "​",
            "_view_module": "@jupyter-widgets/controls",
            "_model_module_version": "1.5.0",
            "value": "",
            "_view_count": null,
            "_view_module_version": "1.5.0",
            "description_tooltip": null,
            "_model_module": "@jupyter-widgets/controls",
            "layout": "IPY_MODEL_0a9d9abb8cae4446ae7e4cbe3016f4e7"
          }
        },
        "2e096acaf6d542879c6bc2dee28f5d34": {
          "model_module": "@jupyter-widgets/controls",
          "model_name": "FloatProgressModel",
          "model_module_version": "1.5.0",
          "state": {
            "_view_name": "ProgressView",
            "style": "IPY_MODEL_a6e9e615e77a40149d5ba546bd474adc",
            "_dom_classes": [],
            "description": "",
            "_model_name": "FloatProgressModel",
            "bar_style": "success",
            "max": 170498071,
            "_view_module": "@jupyter-widgets/controls",
            "_model_module_version": "1.5.0",
            "value": 170498071,
            "_view_count": null,
            "_view_module_version": "1.5.0",
            "orientation": "horizontal",
            "min": 0,
            "description_tooltip": null,
            "_model_module": "@jupyter-widgets/controls",
            "layout": "IPY_MODEL_a56f39a6563247789690d7c231453352"
          }
        },
        "877fc867777b417b9a233b3c5c868df7": {
          "model_module": "@jupyter-widgets/controls",
          "model_name": "HTMLModel",
          "model_module_version": "1.5.0",
          "state": {
            "_view_name": "HTMLView",
            "style": "IPY_MODEL_9186e72b5822423ab51a01fd26936a13",
            "_dom_classes": [],
            "description": "",
            "_model_name": "HTMLModel",
            "placeholder": "​",
            "_view_module": "@jupyter-widgets/controls",
            "_model_module_version": "1.5.0",
            "value": " 170499072/? [00:07&lt;00:00, 31515476.26it/s]",
            "_view_count": null,
            "_view_module_version": "1.5.0",
            "description_tooltip": null,
            "_model_module": "@jupyter-widgets/controls",
            "layout": "IPY_MODEL_2cd01d83e1db4154b3547f733d36f5ca"
          }
        },
        "c714870e50914021817b4e4f52bf65ba": {
          "model_module": "@jupyter-widgets/controls",
          "model_name": "DescriptionStyleModel",
          "model_module_version": "1.5.0",
          "state": {
            "_view_name": "StyleView",
            "_model_name": "DescriptionStyleModel",
            "description_width": "",
            "_view_module": "@jupyter-widgets/base",
            "_model_module_version": "1.5.0",
            "_view_count": null,
            "_view_module_version": "1.2.0",
            "_model_module": "@jupyter-widgets/controls"
          }
        },
        "0a9d9abb8cae4446ae7e4cbe3016f4e7": {
          "model_module": "@jupyter-widgets/base",
          "model_name": "LayoutModel",
          "model_module_version": "1.2.0",
          "state": {
            "_view_name": "LayoutView",
            "grid_template_rows": null,
            "right": null,
            "justify_content": null,
            "_view_module": "@jupyter-widgets/base",
            "overflow": null,
            "_model_module_version": "1.2.0",
            "_view_count": null,
            "flex_flow": null,
            "width": null,
            "min_width": null,
            "border": null,
            "align_items": null,
            "bottom": null,
            "_model_module": "@jupyter-widgets/base",
            "top": null,
            "grid_column": null,
            "overflow_y": null,
            "overflow_x": null,
            "grid_auto_flow": null,
            "grid_area": null,
            "grid_template_columns": null,
            "flex": null,
            "_model_name": "LayoutModel",
            "justify_items": null,
            "grid_row": null,
            "max_height": null,
            "align_content": null,
            "visibility": null,
            "align_self": null,
            "height": null,
            "min_height": null,
            "padding": null,
            "grid_auto_rows": null,
            "grid_gap": null,
            "max_width": null,
            "order": null,
            "_view_module_version": "1.2.0",
            "grid_template_areas": null,
            "object_position": null,
            "object_fit": null,
            "grid_auto_columns": null,
            "margin": null,
            "display": null,
            "left": null
          }
        },
        "a6e9e615e77a40149d5ba546bd474adc": {
          "model_module": "@jupyter-widgets/controls",
          "model_name": "ProgressStyleModel",
          "model_module_version": "1.5.0",
          "state": {
            "_view_name": "StyleView",
            "_model_name": "ProgressStyleModel",
            "description_width": "",
            "_view_module": "@jupyter-widgets/base",
            "_model_module_version": "1.5.0",
            "_view_count": null,
            "_view_module_version": "1.2.0",
            "bar_color": null,
            "_model_module": "@jupyter-widgets/controls"
          }
        },
        "a56f39a6563247789690d7c231453352": {
          "model_module": "@jupyter-widgets/base",
          "model_name": "LayoutModel",
          "model_module_version": "1.2.0",
          "state": {
            "_view_name": "LayoutView",
            "grid_template_rows": null,
            "right": null,
            "justify_content": null,
            "_view_module": "@jupyter-widgets/base",
            "overflow": null,
            "_model_module_version": "1.2.0",
            "_view_count": null,
            "flex_flow": null,
            "width": null,
            "min_width": null,
            "border": null,
            "align_items": null,
            "bottom": null,
            "_model_module": "@jupyter-widgets/base",
            "top": null,
            "grid_column": null,
            "overflow_y": null,
            "overflow_x": null,
            "grid_auto_flow": null,
            "grid_area": null,
            "grid_template_columns": null,
            "flex": null,
            "_model_name": "LayoutModel",
            "justify_items": null,
            "grid_row": null,
            "max_height": null,
            "align_content": null,
            "visibility": null,
            "align_self": null,
            "height": null,
            "min_height": null,
            "padding": null,
            "grid_auto_rows": null,
            "grid_gap": null,
            "max_width": null,
            "order": null,
            "_view_module_version": "1.2.0",
            "grid_template_areas": null,
            "object_position": null,
            "object_fit": null,
            "grid_auto_columns": null,
            "margin": null,
            "display": null,
            "left": null
          }
        },
        "9186e72b5822423ab51a01fd26936a13": {
          "model_module": "@jupyter-widgets/controls",
          "model_name": "DescriptionStyleModel",
          "model_module_version": "1.5.0",
          "state": {
            "_view_name": "StyleView",
            "_model_name": "DescriptionStyleModel",
            "description_width": "",
            "_view_module": "@jupyter-widgets/base",
            "_model_module_version": "1.5.0",
            "_view_count": null,
            "_view_module_version": "1.2.0",
            "_model_module": "@jupyter-widgets/controls"
          }
        },
        "2cd01d83e1db4154b3547f733d36f5ca": {
          "model_module": "@jupyter-widgets/base",
          "model_name": "LayoutModel",
          "model_module_version": "1.2.0",
          "state": {
            "_view_name": "LayoutView",
            "grid_template_rows": null,
            "right": null,
            "justify_content": null,
            "_view_module": "@jupyter-widgets/base",
            "overflow": null,
            "_model_module_version": "1.2.0",
            "_view_count": null,
            "flex_flow": null,
            "width": null,
            "min_width": null,
            "border": null,
            "align_items": null,
            "bottom": null,
            "_model_module": "@jupyter-widgets/base",
            "top": null,
            "grid_column": null,
            "overflow_y": null,
            "overflow_x": null,
            "grid_auto_flow": null,
            "grid_area": null,
            "grid_template_columns": null,
            "flex": null,
            "_model_name": "LayoutModel",
            "justify_items": null,
            "grid_row": null,
            "max_height": null,
            "align_content": null,
            "visibility": null,
            "align_self": null,
            "height": null,
            "min_height": null,
            "padding": null,
            "grid_auto_rows": null,
            "grid_gap": null,
            "max_width": null,
            "order": null,
            "_view_module_version": "1.2.0",
            "grid_template_areas": null,
            "object_position": null,
            "object_fit": null,
            "grid_auto_columns": null,
            "margin": null,
            "display": null,
            "left": null
          }
        }
      }
    }
  },
  "cells": [
    {
      "cell_type": "code",
      "metadata": {
        "colab": {
          "base_uri": "https://localhost:8080/"
        },
        "id": "4CfBqEveSXzo",
        "outputId": "eb1828d6-1b09-44d1-a76b-90f5be02a648"
      },
      "source": [
        "!git clone https://github.com/AlexanderNevarko/glo-flow.git"
      ],
      "id": "4CfBqEveSXzo",
      "execution_count": null,
      "outputs": [
        {
          "output_type": "stream",
          "name": "stdout",
          "text": [
            "Cloning into 'glo-flow'...\n",
            "remote: Enumerating objects: 120, done.\u001b[K\n",
            "remote: Counting objects: 100% (120/120), done.\u001b[K\n",
            "remote: Compressing objects: 100% (68/68), done.\u001b[K\n",
            "remote: Total 120 (delta 54), reused 99 (delta 38), pack-reused 0\u001b[K\n",
            "Receiving objects: 100% (120/120), 98.64 KiB | 8.22 MiB/s, done.\n",
            "Resolving deltas: 100% (54/54), done.\n"
          ]
        }
      ]
    },
    {
      "cell_type": "code",
      "metadata": {
        "colab": {
          "base_uri": "https://localhost:8080/"
        },
        "id": "0192b5d2-76b9-43ba-a8a5-5b524e754053",
        "outputId": "039525c5-c0db-4540-ea5c-089ae427eea8"
      },
      "source": [
        "import sys\n",
        "sys.path.append('glo-flow/')\n",
        "sys.path"
      ],
      "id": "0192b5d2-76b9-43ba-a8a5-5b524e754053",
      "execution_count": null,
      "outputs": [
        {
          "output_type": "execute_result",
          "data": {
            "text/plain": [
              "['',\n",
              " '/content',\n",
              " '/env/python',\n",
              " '/usr/lib/python37.zip',\n",
              " '/usr/lib/python3.7',\n",
              " '/usr/lib/python3.7/lib-dynload',\n",
              " '/usr/local/lib/python3.7/dist-packages',\n",
              " '/usr/lib/python3/dist-packages',\n",
              " '/usr/local/lib/python3.7/dist-packages/IPython/extensions',\n",
              " '/root/.ipython',\n",
              " 'glo-flow/']"
            ]
          },
          "metadata": {},
          "execution_count": 2
        }
      ]
    },
    {
      "cell_type": "code",
      "metadata": {
        "colab": {
          "base_uri": "https://localhost:8080/"
        },
        "id": "UNeWQoBYShAP",
        "outputId": "12da2b75-f731-498c-9bb3-cd875d420578"
      },
      "source": [
        "!pip install -q comet_ml"
      ],
      "id": "UNeWQoBYShAP",
      "execution_count": null,
      "outputs": [
        {
          "output_type": "stream",
          "name": "stdout",
          "text": [
            "\u001b[?25l\r\u001b[K     |█                               | 10 kB 33.3 MB/s eta 0:00:01\r\u001b[K     |██▏                             | 20 kB 35.8 MB/s eta 0:00:01\r\u001b[K     |███▎                            | 30 kB 42.2 MB/s eta 0:00:01\r\u001b[K     |████▍                           | 40 kB 28.9 MB/s eta 0:00:01\r\u001b[K     |█████▌                          | 51 kB 18.0 MB/s eta 0:00:01\r\u001b[K     |██████▋                         | 61 kB 19.6 MB/s eta 0:00:01\r\u001b[K     |███████▋                        | 71 kB 14.2 MB/s eta 0:00:01\r\u001b[K     |████████▊                       | 81 kB 15.7 MB/s eta 0:00:01\r\u001b[K     |█████████▉                      | 92 kB 14.6 MB/s eta 0:00:01\r\u001b[K     |███████████                     | 102 kB 15.6 MB/s eta 0:00:01\r\u001b[K     |████████████                    | 112 kB 15.6 MB/s eta 0:00:01\r\u001b[K     |█████████████▏                  | 122 kB 15.6 MB/s eta 0:00:01\r\u001b[K     |██████████████▏                 | 133 kB 15.6 MB/s eta 0:00:01\r\u001b[K     |███████████████▎                | 143 kB 15.6 MB/s eta 0:00:01\r\u001b[K     |████████████████▍               | 153 kB 15.6 MB/s eta 0:00:01\r\u001b[K     |█████████████████▌              | 163 kB 15.6 MB/s eta 0:00:01\r\u001b[K     |██████████████████▋             | 174 kB 15.6 MB/s eta 0:00:01\r\u001b[K     |███████████████████▊            | 184 kB 15.6 MB/s eta 0:00:01\r\u001b[K     |████████████████████▊           | 194 kB 15.6 MB/s eta 0:00:01\r\u001b[K     |█████████████████████▉          | 204 kB 15.6 MB/s eta 0:00:01\r\u001b[K     |███████████████████████         | 215 kB 15.6 MB/s eta 0:00:01\r\u001b[K     |████████████████████████        | 225 kB 15.6 MB/s eta 0:00:01\r\u001b[K     |█████████████████████████▏      | 235 kB 15.6 MB/s eta 0:00:01\r\u001b[K     |██████████████████████████▎     | 245 kB 15.6 MB/s eta 0:00:01\r\u001b[K     |███████████████████████████▍    | 256 kB 15.6 MB/s eta 0:00:01\r\u001b[K     |████████████████████████████▍   | 266 kB 15.6 MB/s eta 0:00:01\r\u001b[K     |█████████████████████████████▌  | 276 kB 15.6 MB/s eta 0:00:01\r\u001b[K     |██████████████████████████████▋ | 286 kB 15.6 MB/s eta 0:00:01\r\u001b[K     |███████████████████████████████▊| 296 kB 15.6 MB/s eta 0:00:01\r\u001b[K     |████████████████████████████████| 299 kB 15.6 MB/s \n",
            "\u001b[K     |████████████████████████████████| 52 kB 1.9 MB/s \n",
            "\u001b[K     |████████████████████████████████| 530 kB 63.2 MB/s \n",
            "\u001b[K     |████████████████████████████████| 54 kB 3.6 MB/s \n",
            "\u001b[?25h  Building wheel for configobj (setup.py) ... \u001b[?25l\u001b[?25hdone\n"
          ]
        }
      ]
    },
    {
      "cell_type": "code",
      "metadata": {
        "id": "daff1500-c281-4cb7-8bed-c358647a3af9"
      },
      "source": [
        "from comet_ml import Experiment\n",
        "import numpy as np\n",
        "import torch\n",
        "import torch.nn as nn\n",
        "import torch.nn.functional as F\n",
        "from torch.utils.data import DataLoader, Dataset\n",
        "from sklearn.decomposition import PCA\n",
        "from sklearn.datasets import fetch_openml\n",
        "from scipy.stats import gaussian_kde\n",
        "import matplotlib.pyplot as plt\n",
        "\n",
        "import torchvision\n",
        "from torchvision.datasets import CIFAR10\n",
        "from torchvision import transforms\n",
        "\n",
        "BW_METHOD = 0.1\n",
        "N_COMPONENTS = 128"
      ],
      "id": "daff1500-c281-4cb7-8bed-c358647a3af9",
      "execution_count": null,
      "outputs": []
    },
    {
      "cell_type": "markdown",
      "metadata": {
        "id": "4f943dcb-ed80-42cd-970c-915c32c09579"
      },
      "source": [
        "### Training the model"
      ],
      "id": "4f943dcb-ed80-42cd-970c-915c32c09579"
    },
    {
      "cell_type": "code",
      "metadata": {
        "id": "s69JC5gx9OjQ"
      },
      "source": [
        "# %load_ext autoreload\n",
        "# %autoreload 2"
      ],
      "id": "s69JC5gx9OjQ",
      "execution_count": null,
      "outputs": []
    },
    {
      "cell_type": "code",
      "metadata": {
        "id": "20427e89-88d0-47e2-9d10-d851f49d2d62"
      },
      "source": [
        "from modules.glo import GLOGenerator, GLOModel, SampleGenerator\n",
        "from modules.train import GLOTrainer, visualize_image_grid\n",
        "from modules.dataset import IdxDataset\n",
        "from modules.validate import Validator\n",
        "from modules.loss import LapLoss"
      ],
      "id": "20427e89-88d0-47e2-9d10-d851f49d2d62",
      "execution_count": null,
      "outputs": []
    },
    {
      "cell_type": "code",
      "metadata": {
        "id": "a336fdd9-df72-4f32-a6fe-47ec3e7d4391",
        "colab": {
          "base_uri": "https://localhost:8080/",
          "height": 120,
          "referenced_widgets": [
            "85c9b2fb1f454c4c96e4ddcab1e81446",
            "3d611e3215814841a5f90f06099ed784",
            "04d90a98af904ca5aaba761ab9754ddd",
            "2e096acaf6d542879c6bc2dee28f5d34",
            "877fc867777b417b9a233b3c5c868df7",
            "c714870e50914021817b4e4f52bf65ba",
            "0a9d9abb8cae4446ae7e4cbe3016f4e7",
            "a6e9e615e77a40149d5ba546bd474adc",
            "a56f39a6563247789690d7c231453352",
            "9186e72b5822423ab51a01fd26936a13",
            "2cd01d83e1db4154b3547f733d36f5ca"
          ]
        },
        "outputId": "b3a20182-46d4-4419-c36d-53c2a27c8686"
      },
      "source": [
        "cifar_train = CIFAR10(root='datasets', train=True, transform=transforms.ToTensor(), download=True)\n",
        "cifar_test = CIFAR10(root='datasets', train=False, transform=transforms.ToTensor(), download=True)"
      ],
      "id": "a336fdd9-df72-4f32-a6fe-47ec3e7d4391",
      "execution_count": null,
      "outputs": [
        {
          "output_type": "stream",
          "name": "stdout",
          "text": [
            "Downloading https://www.cs.toronto.edu/~kriz/cifar-10-python.tar.gz to datasets/cifar-10-python.tar.gz\n"
          ]
        },
        {
          "output_type": "display_data",
          "data": {
            "application/vnd.jupyter.widget-view+json": {
              "model_id": "85c9b2fb1f454c4c96e4ddcab1e81446",
              "version_minor": 0,
              "version_major": 2
            },
            "text/plain": [
              "  0%|          | 0/170498071 [00:00<?, ?it/s]"
            ]
          },
          "metadata": {}
        },
        {
          "output_type": "stream",
          "name": "stdout",
          "text": [
            "Extracting datasets/cifar-10-python.tar.gz to datasets\n",
            "Files already downloaded and verified\n"
          ]
        }
      ]
    },
    {
      "cell_type": "code",
      "metadata": {
        "id": "2cba2a68-f216-49d3-8da6-0efe77c522f0"
      },
      "source": [
        "cifar_train = IdxDataset(cifar_train)\n",
        "cifar_test = IdxDataset(cifar_test)"
      ],
      "id": "2cba2a68-f216-49d3-8da6-0efe77c522f0",
      "execution_count": null,
      "outputs": []
    },
    {
      "cell_type": "code",
      "metadata": {
        "id": "t3mBN5ft0fdS"
      },
      "source": [
        "train_loader = DataLoader(cifar_train, batch_size=16, shuffle=False)\n",
        "val_loader = DataLoader(cifar_test, batch_size=32, shuffle=False)"
      ],
      "id": "t3mBN5ft0fdS",
      "execution_count": null,
      "outputs": []
    },
    {
      "cell_type": "code",
      "metadata": {
        "colab": {
          "base_uri": "https://localhost:8080/"
        },
        "id": "61ef3862-42cc-4728-8a50-d8a288928799",
        "outputId": "1de15d9b-9dde-4d96-c18c-01fbcb10013c"
      },
      "source": [
        "device = torch.device('cuda') if torch.cuda.is_available() else torch.device('cpu')\n",
        "device"
      ],
      "id": "61ef3862-42cc-4728-8a50-d8a288928799",
      "execution_count": null,
      "outputs": [
        {
          "output_type": "execute_result",
          "data": {
            "text/plain": [
              "device(type='cuda')"
            ]
          },
          "metadata": {},
          "execution_count": 9
        }
      ]
    },
    {
      "cell_type": "code",
      "metadata": {
        "id": "32f8b9e1-e0ee-4dbf-8472-d6e1614b7b1c"
      },
      "source": [
        "generator = GLOGenerator(min_channels=64,\n",
        "                         max_channels=1024,\n",
        "                         noise_channels=N_COMPONENTS,\n",
        "                         num_blocks=4,\n",
        "                         dataloader=train_loader).to(device)\n",
        "sample_generator = SampleGenerator(train_loader, z_dim=N_COMPONENTS, bw_method=BW_METHOD)\n",
        "model = GLOModel(generator, train_loader, sample_generator).to(device)"
      ],
      "id": "32f8b9e1-e0ee-4dbf-8472-d6e1614b7b1c",
      "execution_count": null,
      "outputs": []
    },
    {
      "cell_type": "code",
      "metadata": {
        "colab": {
          "base_uri": "https://localhost:8080/"
        },
        "id": "203efbb1-116f-4d82-bb8b-1320d8d39c77",
        "outputId": "5e96dd64-fc27-4a99-f417-64fd5556c44f"
      },
      "source": [
        "experiment = Experiment(api_key='CfFmqDpTCtsdDkLooedZh7bs2',\n",
        "                        project_name='glo-cifar',\n",
        "                        workspace='alexandernevarko')"
      ],
      "id": "203efbb1-116f-4d82-bb8b-1320d8d39c77",
      "execution_count": null,
      "outputs": [
        {
          "output_type": "stream",
          "name": "stderr",
          "text": [
            "COMET WARNING: As you are running in a Jupyter environment, you will need to call `experiment.end()` when finished to ensure all metrics and code are logged before exiting.\n",
            "COMET INFO: Couldn't find a Git repository in '/content' and lookings in parents. You can override where Comet is looking for a Git Patch by setting the configuration `COMET_GIT_DIRECTORY`\n",
            "COMET INFO: Experiment is live on comet.ml https://www.comet.ml/alexandernevarko/glo-cifar/60458f570278404cb4c07602e0f0a266\n",
            "\n"
          ]
        }
      ]
    },
    {
      "cell_type": "code",
      "metadata": {
        "id": "6ccdc707-a71f-4601-9754-c7fb81296c1b"
      },
      "source": [
        "trainer = GLOTrainer(model, use_gpu=True, logger=experiment)"
      ],
      "id": "6ccdc707-a71f-4601-9754-c7fb81296c1b",
      "execution_count": null,
      "outputs": []
    },
    {
      "cell_type": "code",
      "metadata": {
        "id": "354fe122-1b92-47a2-85a8-e6bd3605f85f"
      },
      "source": [
        "zlr = 1e0\n",
        "loss_func = LapLoss(max_levels=3, channels=3, device=device)\n",
        "optimizer = torch.optim.SGD([\n",
        "    {'params': model.generator.parameters(), 'lr': 1e-3},\n",
        "    {'params': model.z, 'lr': zlr}\n",
        "])"
      ],
      "id": "354fe122-1b92-47a2-85a8-e6bd3605f85f",
      "execution_count": null,
      "outputs": []
    },
    {
      "cell_type": "code",
      "metadata": {
        "colab": {
          "base_uri": "https://localhost:8080/"
        },
        "id": "fd894f4e-056d-49ed-ad72-694969705ccb",
        "outputId": "acdfad4b-0d4c-4df1-fa83-3a21e33d4a52"
      },
      "source": [
        "torch.sum(model.z[0]**2)"
      ],
      "id": "fd894f4e-056d-49ed-ad72-694969705ccb",
      "execution_count": null,
      "outputs": [
        {
          "output_type": "execute_result",
          "data": {
            "text/plain": [
              "tensor(0.9998, device='cuda:0', grad_fn=<SumBackward0>)"
            ]
          },
          "metadata": {},
          "execution_count": 43
        }
      ]
    },
    {
      "cell_type": "code",
      "metadata": {
        "colab": {
          "base_uri": "https://localhost:8080/"
        },
        "id": "0ad6c9a9-f97c-4898-8d44-18358892a706",
        "outputId": "f0402050-eef8-4afc-c8af-f885342b9761"
      },
      "source": [
        "n_epochs = 25\n",
        "trainer.train(n_epochs=n_epochs, train_loader=train_loader, \n",
        "              loss_func=loss_func, optimizer=optimizer, \n",
        "              exp_name=f'Big_LapL1_z_{N_COMPONENTS}_zlr_1e0_{n_epochs}+++_epochs_cifar10', model_path='')"
      ],
      "id": "0ad6c9a9-f97c-4898-8d44-18358892a706",
      "execution_count": null,
      "outputs": [
        {
          "output_type": "stream",
          "name": "stderr",
          "text": [
            ""
          ]
        },
        {
          "output_type": "stream",
          "name": "stdout",
          "text": [
            "Average epoch 0 loss: 0.06026451920866966\n"
          ]
        },
        {
          "output_type": "stream",
          "name": "stderr",
          "text": [
            ""
          ]
        },
        {
          "output_type": "stream",
          "name": "stdout",
          "text": [
            "Average epoch 1 loss: 0.059431550526618956\n"
          ]
        },
        {
          "output_type": "stream",
          "name": "stderr",
          "text": [
            ""
          ]
        },
        {
          "output_type": "stream",
          "name": "stdout",
          "text": [
            "Average epoch 2 loss: 0.05882217881679535\n"
          ]
        },
        {
          "output_type": "stream",
          "name": "stderr",
          "text": [
            ""
          ]
        },
        {
          "output_type": "stream",
          "name": "stdout",
          "text": [
            "Average epoch 3 loss: 0.05838238895177841\n"
          ]
        },
        {
          "output_type": "stream",
          "name": "stderr",
          "text": [
            ""
          ]
        },
        {
          "output_type": "stream",
          "name": "stdout",
          "text": [
            "Average epoch 4 loss: 0.058069616253376005\n"
          ]
        },
        {
          "output_type": "stream",
          "name": "stderr",
          "text": [
            ""
          ]
        },
        {
          "output_type": "stream",
          "name": "stdout",
          "text": [
            "Average epoch 5 loss: 0.0578494078040123\n"
          ]
        },
        {
          "output_type": "stream",
          "name": "stderr",
          "text": [
            ""
          ]
        },
        {
          "output_type": "stream",
          "name": "stdout",
          "text": [
            "Average epoch 6 loss: 0.05769386408090591\n"
          ]
        },
        {
          "output_type": "stream",
          "name": "stderr",
          "text": [
            ""
          ]
        },
        {
          "output_type": "stream",
          "name": "stdout",
          "text": [
            "Average epoch 7 loss: 0.05758190509200096\n"
          ]
        },
        {
          "output_type": "stream",
          "name": "stderr",
          "text": [
            ""
          ]
        },
        {
          "output_type": "stream",
          "name": "stdout",
          "text": [
            "Average epoch 8 loss: 0.057498704388141635\n"
          ]
        },
        {
          "output_type": "stream",
          "name": "stderr",
          "text": [
            ""
          ]
        },
        {
          "output_type": "stream",
          "name": "stdout",
          "text": [
            "Average epoch 9 loss: 0.05743430000901222\n"
          ]
        },
        {
          "output_type": "stream",
          "name": "stderr",
          "text": [
            ""
          ]
        },
        {
          "output_type": "stream",
          "name": "stdout",
          "text": [
            "Average epoch 10 loss: 0.05738241003632545\n"
          ]
        },
        {
          "output_type": "stream",
          "name": "stderr",
          "text": [
            ""
          ]
        },
        {
          "output_type": "stream",
          "name": "stdout",
          "text": [
            "Average epoch 11 loss: 0.057339047943353656\n"
          ]
        },
        {
          "output_type": "stream",
          "name": "stderr",
          "text": [
            ""
          ]
        },
        {
          "output_type": "stream",
          "name": "stdout",
          "text": [
            "Average epoch 12 loss: 0.05730157381653786\n"
          ]
        },
        {
          "output_type": "stream",
          "name": "stderr",
          "text": [
            ""
          ]
        },
        {
          "output_type": "stream",
          "name": "stdout",
          "text": [
            "Average epoch 13 loss: 0.05726850964784622\n"
          ]
        },
        {
          "output_type": "stream",
          "name": "stderr",
          "text": [
            ""
          ]
        },
        {
          "output_type": "stream",
          "name": "stdout",
          "text": [
            "Average epoch 14 loss: 0.05723869098782539\n"
          ]
        },
        {
          "output_type": "stream",
          "name": "stderr",
          "text": [
            ""
          ]
        },
        {
          "output_type": "stream",
          "name": "stdout",
          "text": [
            "Average epoch 15 loss: 0.05721134502768516\n"
          ]
        },
        {
          "output_type": "stream",
          "name": "stderr",
          "text": [
            ""
          ]
        },
        {
          "output_type": "stream",
          "name": "stdout",
          "text": [
            "Average epoch 16 loss: 0.05718603836417198\n"
          ]
        },
        {
          "output_type": "stream",
          "name": "stderr",
          "text": [
            ""
          ]
        },
        {
          "output_type": "stream",
          "name": "stdout",
          "text": [
            "Average epoch 17 loss: 0.05716228308439255\n"
          ]
        },
        {
          "output_type": "stream",
          "name": "stderr",
          "text": [
            ""
          ]
        },
        {
          "output_type": "stream",
          "name": "stdout",
          "text": [
            "Average epoch 18 loss: 0.057139912123680116\n"
          ]
        },
        {
          "output_type": "stream",
          "name": "stderr",
          "text": [
            ""
          ]
        },
        {
          "output_type": "stream",
          "name": "stdout",
          "text": [
            "Average epoch 19 loss: 0.057118643292188645\n"
          ]
        },
        {
          "output_type": "stream",
          "name": "stderr",
          "text": [
            ""
          ]
        },
        {
          "output_type": "stream",
          "name": "stdout",
          "text": [
            "Average epoch 20 loss: 0.05709840294957161\n"
          ]
        },
        {
          "output_type": "stream",
          "name": "stderr",
          "text": [
            ""
          ]
        },
        {
          "output_type": "stream",
          "name": "stdout",
          "text": [
            "Average epoch 21 loss: 0.057078925292491915\n"
          ]
        },
        {
          "output_type": "stream",
          "name": "stderr",
          "text": [
            ""
          ]
        },
        {
          "output_type": "stream",
          "name": "stdout",
          "text": [
            "Average epoch 22 loss: 0.05706024481058121\n"
          ]
        },
        {
          "output_type": "stream",
          "name": "stderr",
          "text": [
            ""
          ]
        },
        {
          "output_type": "stream",
          "name": "stdout",
          "text": [
            "Average epoch 23 loss: 0.05704217114329338\n"
          ]
        },
        {
          "output_type": "stream",
          "name": "stderr",
          "text": [
            ""
          ]
        },
        {
          "output_type": "stream",
          "name": "stdout",
          "text": [
            "Average epoch 24 loss: 0.05702469730377197\n"
          ]
        }
      ]
    },
    {
      "cell_type": "code",
      "metadata": {
        "colab": {
          "base_uri": "https://localhost:8080/"
        },
        "id": "hTWuZ6119XBD",
        "outputId": "08e57efa-254d-4ddb-fefb-791a06bfbf15"
      },
      "source": [
        "# model.load_state_dict(torch.load('/content/m/z_32_zlr_1e2_50_epochs_model.pth'))"
      ],
      "id": "hTWuZ6119XBD",
      "execution_count": null,
      "outputs": [
        {
          "output_type": "execute_result",
          "data": {
            "text/plain": [
              "<All keys matched successfully>"
            ]
          },
          "metadata": {},
          "execution_count": 26
        }
      ]
    },
    {
      "cell_type": "code",
      "metadata": {
        "id": "pgQjJnr42LjY"
      },
      "source": [
        "z = nn.Parameter(torch.randn(size=(len(val_loader.dataset), N_COMPONENTS), device=device, requires_grad=True))\n",
        "optimizer = torch.optim.SGD([z], lr=5e1)\n",
        "loss_func = LapLoss(max_levels=3, channels=3, device=device)\n",
        "\n",
        "validator = Validator(model, val_loader, loss_func, optimizer)"
      ],
      "id": "pgQjJnr42LjY",
      "execution_count": null,
      "outputs": []
    },
    {
      "cell_type": "code",
      "metadata": {
        "colab": {
          "base_uri": "https://localhost:8080/"
        },
        "id": "f715F4T-2LWy",
        "outputId": "c6d66fb5-a156-49c7-e5dd-0fdb2c1f6fa3"
      },
      "source": [
        "z_new, loss = validator.validate(z=z, min_loss=0.06, max_iter=60)"
      ],
      "id": "f715F4T-2LWy",
      "execution_count": null,
      "outputs": [
        {
          "output_type": "stream",
          "name": "stderr",
          "text": [
            ""
          ]
        }
      ]
    },
    {
      "cell_type": "code",
      "metadata": {
        "id": "nr2YvxTE2LNj",
        "colab": {
          "base_uri": "https://localhost:8080/",
          "height": 720
        },
        "outputId": "d41baa7a-dd9d-405a-dc0b-a028481d3e0e"
      },
      "source": [
        "idx = torch.randint(low=0, high=len(z), size=(8, ))\n",
        "img = []\n",
        "for i in idx:\n",
        "    img.append(train_loader.dataset[i][1])\n",
        "img = torch.cat(img).view(8, 3, 32, 32)\n",
        "res = validator.visualize_val_results(z=model.z[idx], img=img)\n",
        "plt.figure(figsize=(18, 12))\n",
        "plt.imshow(res)"
      ],
      "id": "nr2YvxTE2LNj",
      "execution_count": null,
      "outputs": [
        {
          "output_type": "execute_result",
          "data": {
            "text/plain": [
              "<matplotlib.image.AxesImage at 0x7fa998691f10>"
            ]
          },
          "metadata": {},
          "execution_count": 51
        },
        {
          "output_type": "display_data",
          "data": {
            "image/png": "[encoded data removed]",
            "text/plain": [
              "<Figure size 1296x864 with 1 Axes>"
            ]
          },
          "metadata": {
            "needs_background": "light"
          }
        }
      ]
    },
    {
      "cell_type": "code",
      "metadata": {
        "colab": {
          "base_uri": "https://localhost:8080/"
        },
        "id": "4QeD-SQPHeN0",
        "outputId": "d77089ee-7ee4-49e2-a123-e2054496b759"
      },
      "source": [
        "img.shape"
      ],
      "id": "4QeD-SQPHeN0",
      "execution_count": null,
      "outputs": [
        {
          "output_type": "execute_result",
          "data": {
            "text/plain": [
              "torch.Size([8, 1, 28, 28])"
            ]
          },
          "metadata": {},
          "execution_count": 27
        }
      ]
    },
    {
      "cell_type": "code",
      "metadata": {
        "id": "WUd7-Vp03TG-"
      },
      "source": [
        "!rm -rf glo-flow"
      ],
      "id": "WUd7-Vp03TG-",
      "execution_count": null,
      "outputs": []
    },
    {
      "cell_type": "code",
      "metadata": {
        "id": "NDzOw3mA3S7e"
      },
      "source": [
        "!cp Big_LapL1_z_128_zlr_1e0_25+++_epochs_cifar10_model.pth "
      ],
      "id": "NDzOw3mA3S7e",
      "execution_count": null,
      "outputs": []
    },
    {
      "cell_type": "markdown",
      "metadata": {
        "id": "Z-Zw2k-yky97"
      },
      "source": [
        "Now let's look at the model Z distribution!"
      ],
      "id": "Z-Zw2k-yky97"
    },
    {
      "cell_type": "code",
      "metadata": {
        "id": "OjzswSoCkyTf"
      },
      "source": [
        "z_numpy = model.z.detach().cpu().numpy()"
      ],
      "id": "OjzswSoCkyTf",
      "execution_count": null,
      "outputs": []
    },
    {
      "cell_type": "code",
      "metadata": {
        "colab": {
          "base_uri": "https://localhost:8080/",
          "height": 282
        },
        "id": "_oOwC70mlQUC",
        "outputId": "c6579475-a897-49a8-9e61-655a10474e8f"
      },
      "source": [
        "plt.plot(z_numpy.std(axis=0), label='std')\n",
        "plt.plot(z_numpy.mean(axis=0), label='mean')\n",
        "plt.legend()"
      ],
      "id": "_oOwC70mlQUC",
      "execution_count": null,
      "outputs": [
        {
          "output_type": "execute_result",
          "data": {
            "text/plain": [
              "<matplotlib.legend.Legend at 0x7f1bbfcd0b50>"
            ]
          },
          "metadata": {},
          "execution_count": 36
        },
        {
          "output_type": "display_data",
          "data": {
            "image/png": "[encoded data removed]",
            "text/plain": [
              "<Figure size 432x288 with 1 Axes>"
            ]
          },
          "metadata": {
            "needs_background": "light"
          }
        }
      ]
    },
    {
      "cell_type": "code",
      "metadata": {
        "colab": {
          "base_uri": "https://localhost:8080/",
          "height": 265
        },
        "id": "zLT6NisdlBcL",
        "outputId": "5673a4a5-21c3-40ec-b117-343c397c8678"
      },
      "source": [
        "_ = plt.hist(z_numpy[:, 0], bins=50)"
      ],
      "id": "zLT6NisdlBcL",
      "execution_count": null,
      "outputs": [
        {
          "output_type": "display_data",
          "data": {
            "image/png": "[encoded data removed]",
            "text/plain": [
              "<Figure size 432x288 with 1 Axes>"
            ]
          },
          "metadata": {
            "needs_background": "light"
          }
        }
      ]
    },
    {
      "cell_type": "code",
      "metadata": {
        "colab": {
          "base_uri": "https://localhost:8080/",
          "height": 265
        },
        "id": "VzsrTesxleZa",
        "outputId": "8544e239-cd27-4da4-a7a6-4b481a109753"
      },
      "source": [
        "_ = plt.hist(z_numpy[:, -10], bins=50)"
      ],
      "id": "VzsrTesxleZa",
      "execution_count": null,
      "outputs": [
        {
          "output_type": "display_data",
          "data": {
            "image/png": "[encoded data removed]",
            "text/plain": [
              "<Figure size 432x288 with 1 Axes>"
            ]
          },
          "metadata": {
            "needs_background": "light"
          }
        }
      ]
    },
    {
      "cell_type": "code",
      "metadata": {
        "id": "116debdf-f9ff-4811-96f4-2643adef7f7f",
        "outputId": "b2e93ed1-0206-46be-9505-d3e742fa7549"
      },
      "source": [
        "a = torch.tensor([1, 2, 3])\n",
        "b = torch.tensor([0, 3, 5])\n",
        "torch.amax(torch.vstack([a, b]), dim=0)"
      ],
      "id": "116debdf-f9ff-4811-96f4-2643adef7f7f",
      "execution_count": null,
      "outputs": [
        {
          "data": {
            "text/plain": [
              "tensor([1, 3, 5])"
            ]
          },
          "execution_count": 27,
          "metadata": {},
          "output_type": "execute_result"
        }
      ]
    },
    {
      "cell_type": "code",
      "metadata": {
        "id": "8faf3f0e-7185-4be6-8735-3886f9302bbd",
        "outputId": "d91d86c6-6cca-4bb4-bfe9-64d523ec7d24"
      },
      "source": [
        "a.long()"
      ],
      "id": "8faf3f0e-7185-4be6-8735-3886f9302bbd",
      "execution_count": null,
      "outputs": [
        {
          "data": {
            "text/plain": [
              "tensor([1, 2, 3])"
            ]
          },
          "execution_count": 22,
          "metadata": {},
          "output_type": "execute_result"
        }
      ]
    },
    {
      "cell_type": "code",
      "metadata": {
        "colab": {
          "base_uri": "https://localhost:8080/"
        },
        "id": "13b5bd8e-f0ed-40fc-beb7-c2af59053a57",
        "outputId": "90f18333-7512-4ef9-dacb-fceda5ee0a4e"
      },
      "source": [
        "experiment.end()"
      ],
      "id": "13b5bd8e-f0ed-40fc-beb7-c2af59053a57",
      "execution_count": null,
      "outputs": [
        {
          "output_type": "stream",
          "name": "stderr",
          "text": [
            "COMET INFO: ---------------------------\n",
            "COMET INFO: Comet.ml Experiment Summary\n",
            "COMET INFO: ---------------------------\n",
            "COMET INFO:   Data:\n",
            "COMET INFO:     display_summary_level : 1\n",
            "COMET INFO:     url                   : https://www.comet.ml/alexandernevarko/glo-cifar/60458f570278404cb4c07602e0f0a266\n",
            "COMET INFO:   Metrics [count] (min, max):\n",
            "COMET INFO:     Average epoch train loss [25] : (0.05702469730377197, 0.06026451920866966)\n",
            "COMET INFO:     Train loss [78125]            : (0.04043380916118622, 0.08204331994056702)\n",
            "COMET INFO:     loss [9681]                   : (0.041250839829444885, 0.13823223114013672)\n",
            "COMET INFO:   Others:\n",
            "COMET INFO:     Name : Big_LapL1_z_128_zlr_1e0_25+++_epochs_cifar10\n",
            "COMET INFO:   Uploads:\n",
            "COMET INFO:     environment details : 1\n",
            "COMET INFO:     filename            : 1\n",
            "COMET INFO:     images              : 25\n",
            "COMET INFO:     installed packages  : 1\n",
            "COMET INFO:     model graph         : 1\n",
            "COMET INFO:     notebook            : 1\n",
            "COMET INFO:     os packages         : 1\n",
            "COMET INFO:     source_code         : 1\n",
            "COMET INFO: ---------------------------\n",
            "COMET INFO: Uploading 1 metrics, params and output messages\n"
          ]
        }
      ]
    },
    {
      "cell_type": "code",
      "metadata": {
        "id": "0b72dc7e-32d2-404c-8616-cea37a746132"
      },
      "source": [
        ""
      ],
      "id": "0b72dc7e-32d2-404c-8616-cea37a746132",
      "execution_count": null,
      "outputs": []
    }
  ]
}
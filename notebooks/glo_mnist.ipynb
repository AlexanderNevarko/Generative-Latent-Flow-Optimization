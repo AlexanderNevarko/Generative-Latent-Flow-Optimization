{
 "cells": [
  {
   "cell_type": "code",
   "execution_count": null,
   "id": "4CfBqEveSXzo",
   "metadata": {
    "colab": {
     "base_uri": "https://localhost:8080/"
    },
    "id": "4CfBqEveSXzo",
    "outputId": "3c21470f-da30-4f99-ee6e-410f2d5ee0aa"
   },
   "outputs": [
    {
     "name": "stdout",
     "output_type": "stream",
     "text": [
      "Cloning into 'glo-flow'...\n",
      "remote: Enumerating objects: 120, done.\u001b[K\n",
      "remote: Counting objects: 100% (120/120), done.\u001b[K\n",
      "remote: Compressing objects: 100% (68/68), done.\u001b[K\n",
      "remote: Total 120 (delta 54), reused 99 (delta 38), pack-reused 0\u001b[K\n",
      "Receiving objects: 100% (120/120), 98.64 KiB | 8.22 MiB/s, done.\n",
      "Resolving deltas: 100% (54/54), done.\n"
     ]
    }
   ],
   "source": [
    "!git clone https://github.com/AlexanderNevarko/glo-flow.git"
   ]
  },
  {
   "cell_type": "code",
   "execution_count": 1,
   "id": "0192b5d2-76b9-43ba-a8a5-5b524e754053",
   "metadata": {
    "colab": {
     "base_uri": "https://localhost:8080/"
    },
    "id": "0192b5d2-76b9-43ba-a8a5-5b524e754053",
    "outputId": "d409c15a-453d-4fe4-d896-534254f27341"
   },
   "outputs": [
    {
     "data": {
      "text/plain": [
       "['/Users/aleksandr/Desktop/newGAN/glo-flow/notebooks',\n",
       " '/Users/aleksandr/miniconda/lib/python38.zip',\n",
       " '/Users/aleksandr/miniconda/lib/python3.8',\n",
       " '/Users/aleksandr/miniconda/lib/python3.8/lib-dynload',\n",
       " '',\n",
       " '/Users/aleksandr/miniconda/lib/python3.8/site-packages',\n",
       " '/Users/aleksandr/Desktop/hacks/liders/Real-ESRGAN',\n",
       " '/Users/aleksandr/miniconda/lib/python3.8/site-packages/IPython/extensions',\n",
       " '/Users/aleksandr/.ipython',\n",
       " '/Users/aleksandr/Desktop/newGAN/glo-flow']"
      ]
     },
     "execution_count": 1,
     "metadata": {},
     "output_type": "execute_result"
    }
   ],
   "source": [
    "import sys\n",
    "sys.path.append('/Users/aleksandr/Desktop/newGAN/glo-flow')\n",
    "sys.path"
   ]
  },
  {
   "cell_type": "code",
   "execution_count": null,
   "id": "UNeWQoBYShAP",
   "metadata": {
    "colab": {
     "base_uri": "https://localhost:8080/"
    },
    "id": "UNeWQoBYShAP",
    "outputId": "e5c5a80e-4bc1-4729-ffce-acf8692e15f4"
   },
   "outputs": [
    {
     "name": "stdout",
     "output_type": "stream",
     "text": [
      "\u001b[K     |████████████████████████████████| 299 kB 15.4 MB/s eta 0:00:01\n",
      "\u001b[K     |████████████████████████████████| 52 kB 2.0 MB/s  eta 0:00:01\n",
      "\u001b[K     |████████████████████████████████| 54 kB 3.6 MB/s \n",
      "\u001b[K     |████████████████████████████████| 530 kB 60.4 MB/s \n",
      "\u001b[?25h  Building wheel for configobj (setup.py) ... \u001b[?25l\u001b[?25hdone\n"
     ]
    }
   ],
   "source": [
    "!pip install -q comet_ml"
   ]
  },
  {
   "cell_type": "code",
   "execution_count": 2,
   "id": "daff1500-c281-4cb7-8bed-c358647a3af9",
   "metadata": {
    "id": "daff1500-c281-4cb7-8bed-c358647a3af9"
   },
   "outputs": [],
   "source": [
    "from comet_ml import Experiment\n",
    "import numpy as np\n",
    "import torch\n",
    "import torch.nn as nn\n",
    "import torch.nn.functional as F\n",
    "from torch.utils.data import DataLoader, Dataset\n",
    "from sklearn.decomposition import PCA\n",
    "from sklearn.datasets import fetch_openml\n",
    "from scipy.stats import gaussian_kde\n",
    "import matplotlib.pyplot as plt\n",
    "\n",
    "import torchvision\n",
    "from torchvision.datasets import MNIST\n",
    "from torchvision import transforms\n",
    "\n",
    "BW_METHOD = 0.1\n",
    "N_COMPONENTS = 128"
   ]
  },
  {
   "cell_type": "code",
   "execution_count": null,
   "id": "613ccabe-4902-4b38-b421-1bf56b444464",
   "metadata": {
    "id": "613ccabe-4902-4b38-b421-1bf56b444464"
   },
   "outputs": [],
   "source": [
    "mnist = fetch_openml(name='mnist_784', version='active')"
   ]
  },
  {
   "cell_type": "code",
   "execution_count": null,
   "id": "099dd52a-997d-40e1-8c46-24224080b6b3",
   "metadata": {
    "id": "099dd52a-997d-40e1-8c46-24224080b6b3"
   },
   "outputs": [],
   "source": [
    "pca = PCA(n_components=N_COMPONENTS)\n",
    "data = pca.fit_transform(mnist.data)"
   ]
  },
  {
   "cell_type": "code",
   "execution_count": null,
   "id": "a497387d-28c8-4318-882d-b036129c51de",
   "metadata": {
    "colab": {
     "base_uri": "https://localhost:8080/"
    },
    "id": "a497387d-28c8-4318-882d-b036129c51de",
    "outputId": "c1c15cdf-ce9b-41d5-9d53-1199b95b4e07"
   },
   "outputs": [
    {
     "data": {
      "text/plain": [
       "(32, 70000)"
      ]
     },
     "execution_count": 9,
     "metadata": {},
     "output_type": "execute_result"
    }
   ],
   "source": [
    "data = data.T\n",
    "data.shape"
   ]
  },
  {
   "cell_type": "code",
   "execution_count": null,
   "id": "3dc63319-0714-4c1e-8415-2e1a6f0b061e",
   "metadata": {
    "colab": {
     "base_uri": "https://localhost:8080/",
     "height": 269
    },
    "id": "3dc63319-0714-4c1e-8415-2e1a6f0b061e",
    "outputId": "14b35d8b-6186-444f-a1ce-a24e0dce3f0b"
   },
   "outputs": [
    {
     "data": {
      "image/png": "[encoded data removed]",
      "text/plain": [
       "<Figure size 432x288 with 1 Axes>"
      ]
     },
     "metadata": {
      "needs_background": "light"
     },
     "output_type": "display_data"
    }
   ],
   "source": [
    "i = 6\n",
    "plt.hist(data[i], bins=50)\n",
    "kernel = gaussian_kde(data, bw_method=BW_METHOD)\n",
    "sample = kernel.resample(30_000)\n",
    "_ = plt.hist(sample[i], bins=50)"
   ]
  },
  {
   "cell_type": "markdown",
   "id": "4f943dcb-ed80-42cd-970c-915c32c09579",
   "metadata": {
    "id": "4f943dcb-ed80-42cd-970c-915c32c09579"
   },
   "source": [
    "### Training the model"
   ]
  },
  {
   "cell_type": "code",
   "execution_count": null,
   "id": "s69JC5gx9OjQ",
   "metadata": {
    "id": "s69JC5gx9OjQ"
   },
   "outputs": [],
   "source": [
    "%load_ext autoreload\n",
    "%autoreload 2"
   ]
  },
  {
   "cell_type": "code",
   "execution_count": 3,
   "id": "20427e89-88d0-47e2-9d10-d851f49d2d62",
   "metadata": {
    "id": "20427e89-88d0-47e2-9d10-d851f49d2d62"
   },
   "outputs": [],
   "source": [
    "from modules.glo import GLOGenerator, GLOModel, SampleGenerator\n",
    "from modules.train import GLOTrainer, visualize_image_grid\n",
    "from modules.dataset import IdxDataset\n",
    "from modules.validate import Validator\n",
    "from modules.loss import LapLoss"
   ]
  },
  {
   "cell_type": "code",
   "execution_count": 4,
   "id": "a336fdd9-df72-4f32-a6fe-47ec3e7d4391",
   "metadata": {
    "colab": {
     "base_uri": "https://localhost:8080/",
     "height": 505,
     "referenced_widgets": [
      "fb7a93ad28ea42f48fae59a04a6a0a7f",
      "9e71f17d3fe44a90a769a1d0bed84a2c",
      "3da2530d28694577947258c2e1b5b994",
      "47a3b9da5fb2428d8697be84811aeb0f",
      "1b7e0570455c47ec8ecad9e6138e6af1",
      "ec0af8b76b464a599824b8c2ed14cbc7",
      "91745f69a133431ea4bdb9d1f0d311de",
      "79bef6e71fb545259baa7b91914e5f7a",
      "951c3f22ad534c81abe9f372a757c42f",
      "bd0a95aebfe7416590d78eba73e4aab6",
      "e4d189f13db6425db8613e3359c25972",
      "cdfb6fcfc81f4bdcb500bf8c8ece2473",
      "fceb0a2b790a4328b89d482085afeb5b",
      "9b1ee11c76604179979ad10bd4b5ea3c",
      "fb38cdd4e3b84b2c8192c4156c5ee6c9",
      "aa89413fb8dc4d97990e42efb65b7a63",
      "63cf1d14799f497c8bcd6775061cdd78",
      "33a1f6c0995b44fdb65fc5078e7f242f",
      "1eafadafd3514fdd81302e4b296e0128",
      "2ac692357c644e7aa4c882c88022316c",
      "88131621178e494c8d599f13f7270789",
      "45db66bc03214f31a699800d26eb7b0f",
      "66d9d96565d2447796ba4588a937b128",
      "daf0cc80e863444ab27c25c5347d9432",
      "ae732c5d36cd4b2dabafbd380e62f561",
      "d07f35477d694d49985e83b2a95d8145",
      "b5888871a9cd4cb98f705aa892cb5a31",
      "fe3651ec98e5484d84a6e36911891553",
      "fdad2e166e084b9eb71b8315b6f9530d",
      "e8625f1df48641f4ac67fc2cb91edb21",
      "23c897b4a3914d47a21ab6269a1ea43d",
      "7a9a8c7456b14d2e886088ed422d0f52",
      "46bedb48d3ac4e50b3f5cfd682fb0fba",
      "bb43f883834644eb8205d77abac9547d",
      "8be5c3c1a9cf472c884b50d758b73284",
      "e10562a69d5b408686ba089bc47dd3b5",
      "ba49158d759e4e65a54bf3dbd4d74e54",
      "93b0710e40c14ee8b20fbd969924f889",
      "f1316fcf655d4f059753a752ee2da847",
      "7827b7dec0d24668913033ee18cc03f7",
      "e21fa8435ab44e488eaa3702c34eaa3f",
      "1c20ba96c54348308aa4a76bfab71581",
      "de09f92abfc54942a0977b661a9afb98",
      "c94a42f4b7b84e208c7a78417d71b621"
     ]
    },
    "id": "a336fdd9-df72-4f32-a6fe-47ec3e7d4391",
    "outputId": "6222f285-7b29-4dd5-d244-8a7e62bbf58e"
   },
   "outputs": [],
   "source": [
    "mnist_train = MNIST(root='datasets', train=True, transform=transforms.ToTensor(), download=True)\n",
    "mnist_test = MNIST(root='datasets', train=False, transform=transforms.ToTensor(), download=True)"
   ]
  },
  {
   "cell_type": "code",
   "execution_count": 5,
   "id": "2cba2a68-f216-49d3-8da6-0efe77c522f0",
   "metadata": {
    "id": "2cba2a68-f216-49d3-8da6-0efe77c522f0"
   },
   "outputs": [],
   "source": [
    "mnist_train = IdxDataset(mnist_train)\n",
    "mnist_test = IdxDataset(mnist_test)"
   ]
  },
  {
   "cell_type": "code",
   "execution_count": 6,
   "id": "t3mBN5ft0fdS",
   "metadata": {
    "id": "t3mBN5ft0fdS"
   },
   "outputs": [],
   "source": [
    "train_loader = DataLoader(mnist_train, batch_size=32, shuffle=False)\n",
    "val_loader = DataLoader(mnist_test, batch_size=32, shuffle=False)"
   ]
  },
  {
   "cell_type": "code",
   "execution_count": 7,
   "id": "61ef3862-42cc-4728-8a50-d8a288928799",
   "metadata": {
    "colab": {
     "base_uri": "https://localhost:8080/"
    },
    "id": "61ef3862-42cc-4728-8a50-d8a288928799",
    "outputId": "696adb6f-562b-4faa-e648-62af84284bc0"
   },
   "outputs": [
    {
     "data": {
      "text/plain": [
       "device(type='cpu')"
      ]
     },
     "execution_count": 7,
     "metadata": {},
     "output_type": "execute_result"
    }
   ],
   "source": [
    "device = torch.device('cuda') if torch.cuda.is_available() else torch.device('cpu')\n",
    "device"
   ]
  },
  {
   "cell_type": "code",
   "execution_count": 8,
   "id": "32f8b9e1-e0ee-4dbf-8472-d6e1614b7b1c",
   "metadata": {
    "id": "32f8b9e1-e0ee-4dbf-8472-d6e1614b7b1c"
   },
   "outputs": [
    {
     "name": "stdout",
     "output_type": "stream",
     "text": [
      "CPU times: user 17.4 s, sys: 1.93 s, total: 19.4 s\n",
      "Wall time: 5.48 s\n"
     ]
    }
   ],
   "source": [
    "generator = GLOGenerator(min_channels=16,\n",
    "                         max_channels=128,\n",
    "                         noise_channels=N_COMPONENTS,\n",
    "                         num_blocks=3,\n",
    "                         dataloader=train_loader).to(device)\n",
    "sample_generator = SampleGenerator(train_loader, z_dim=N_COMPONENTS, bw_method=BW_METHOD)\n",
    "model = GLOModel(generator, train_loader, sample_generator).to(device)"
   ]
  },
  {
   "cell_type": "code",
   "execution_count": null,
   "id": "203efbb1-116f-4d82-bb8b-1320d8d39c77",
   "metadata": {
    "colab": {
     "base_uri": "https://localhost:8080/"
    },
    "id": "203efbb1-116f-4d82-bb8b-1320d8d39c77",
    "outputId": "574fe16f-b3ca-45a2-caa6-7881098ba436"
   },
   "outputs": [
    {
     "name": "stderr",
     "output_type": "stream",
     "text": [
      "COMET WARNING: As you are running in a Jupyter environment, you will need to call `experiment.end()` when finished to ensure all metrics and code are logged before exiting.\n",
      "COMET INFO: Couldn't find a Git repository in '/content' and lookings in parents. You can override where Comet is looking for a Git Patch by setting the configuration `COMET_GIT_DIRECTORY`\n",
      "COMET INFO: Experiment is live on comet.ml https://www.comet.ml/alexandernevarko/glo-mnist/e6cdd673a6a445f4b96988585c9e0e6e\n",
      "\n"
     ]
    }
   ],
   "source": [
    "experiment = Experiment(api_key='CfFmqDpTCtsdDkLooedZh7bs2',\n",
    "                        project_name='glo-mnist',\n",
    "                        workspace='alexandernevarko')"
   ]
  },
  {
   "cell_type": "code",
   "execution_count": null,
   "id": "6ccdc707-a71f-4601-9754-c7fb81296c1b",
   "metadata": {
    "id": "6ccdc707-a71f-4601-9754-c7fb81296c1b"
   },
   "outputs": [],
   "source": [
    "trainer = GLOTrainer(model, use_gpu=True, logger=experiment)"
   ]
  },
  {
   "cell_type": "code",
   "execution_count": null,
   "id": "354fe122-1b92-47a2-85a8-e6bd3605f85f",
   "metadata": {
    "id": "354fe122-1b92-47a2-85a8-e6bd3605f85f"
   },
   "outputs": [],
   "source": [
    "zlr = 1e2\n",
    "loss_func = LapLoss(max_levels=2, channels=1, device=device)\n",
    "optimizer = torch.optim.SGD([\n",
    "    {'params': model.generator.parameters(), 'lr': 1e-3},\n",
    "    {'params': model.z, 'lr': zlr}\n",
    "])"
   ]
  },
  {
   "cell_type": "code",
   "execution_count": null,
   "id": "fd894f4e-056d-49ed-ad72-694969705ccb",
   "metadata": {
    "colab": {
     "base_uri": "https://localhost:8080/"
    },
    "id": "fd894f4e-056d-49ed-ad72-694969705ccb",
    "outputId": "cd6b211d-a9da-4095-b547-a0e6a616e5d8"
   },
   "outputs": [
    {
     "data": {
      "text/plain": [
       "tensor(1.0000, device='cuda:0', grad_fn=<SumBackward0>)"
      ]
     },
     "execution_count": 14,
     "metadata": {},
     "output_type": "execute_result"
    }
   ],
   "source": [
    "torch.sum(model.z[0]**2)"
   ]
  },
  {
   "cell_type": "code",
   "execution_count": null,
   "id": "891ebf10-6603-4985-a6a1-1cb4153cb0eb",
   "metadata": {
    "colab": {
     "base_uri": "https://localhost:8080/"
    },
    "id": "891ebf10-6603-4985-a6a1-1cb4153cb0eb",
    "outputId": "fe7baf68-f5b5-4a00-bd15-30cf37d0d9a0"
   },
   "outputs": [
    {
     "data": {
      "text/plain": [
       "Parameter containing:\n",
       "tensor([[ 0.2413,  0.5008,  0.0106,  ..., -0.0573, -0.0700,  0.1619],\n",
       "        [ 0.1907,  0.2961,  0.2604,  ..., -0.0041,  0.1968, -0.0699],\n",
       "        [ 0.0115,  0.2553, -0.3173,  ...,  0.1083,  0.0628,  0.3200],\n",
       "        ...,\n",
       "        [ 0.3101, -0.3301, -0.1279,  ..., -0.0187, -0.0857,  0.2775],\n",
       "        [-0.5213, -0.1204, -0.0061,  ...,  0.1303, -0.1214,  0.0952],\n",
       "        [-0.0680,  0.1857,  0.3340,  ..., -0.1016, -0.1371,  0.1812]],\n",
       "       device='cuda:0', requires_grad=True)"
      ]
     },
     "execution_count": 25,
     "metadata": {},
     "output_type": "execute_result"
    }
   ],
   "source": [
    "model.z"
   ]
  },
  {
   "cell_type": "code",
   "execution_count": null,
   "id": "5e93af0b-26d5-4c5b-8d96-93abddb812e7",
   "metadata": {
    "id": "5e93af0b-26d5-4c5b-8d96-93abddb812e7",
    "outputId": "adf96e87-6d55-4528-8316-37aef5fb88ac"
   },
   "outputs": [
    {
     "data": {
      "text/plain": [
       "Parameter containing:\n",
       "tensor([[-3.3878e-01,  3.1108e-01, -1.7770e-01,  ...,  1.3327e-04,\n",
       "          1.0573e-02,  3.0073e-02],\n",
       "        [-2.9746e-01,  4.5952e-01,  3.1052e-02,  ...,  1.2081e-02,\n",
       "          9.1287e-03,  7.1439e-03],\n",
       "        [ 9.5864e-02,  2.7947e-01, -4.0255e-01,  ...,  1.4511e-03,\n",
       "         -3.4034e-02,  3.4174e-02],\n",
       "        ...,\n",
       "        [ 1.8333e-01,  1.5791e-01,  2.9805e-02,  ..., -1.8981e-02,\n",
       "         -1.6791e-02,  2.7939e-02],\n",
       "        [-1.3625e-01, -5.8471e-02,  1.1890e-01,  ...,  2.8830e-02,\n",
       "         -3.3027e-02, -1.5449e-03],\n",
       "        [ 1.9912e-01, -3.7841e-01, -1.3152e-01,  ..., -7.2910e-03,\n",
       "         -1.4502e-02,  8.2203e-03]], requires_grad=True)"
      ]
     },
     "execution_count": 16,
     "metadata": {},
     "output_type": "execute_result"
    }
   ],
   "source": [
    "model.z"
   ]
  },
  {
   "cell_type": "code",
   "execution_count": null,
   "id": "0ad6c9a9-f97c-4898-8d44-18358892a706",
   "metadata": {
    "colab": {
     "base_uri": "https://localhost:8080/"
    },
    "id": "0ad6c9a9-f97c-4898-8d44-18358892a706",
    "outputId": "937f3c1b-f60a-4242-e209-8302d1bf3397"
   },
   "outputs": [
    {
     "name": "stderr",
     "output_type": "stream",
     "text": []
    },
    {
     "name": "stdout",
     "output_type": "stream",
     "text": [
      "Average epoch 0 loss: 0.19293082938989004\n"
     ]
    },
    {
     "name": "stderr",
     "output_type": "stream",
     "text": []
    },
    {
     "name": "stdout",
     "output_type": "stream",
     "text": [
      "Average epoch 1 loss: 0.17212671472231547\n"
     ]
    },
    {
     "name": "stderr",
     "output_type": "stream",
     "text": []
    },
    {
     "name": "stdout",
     "output_type": "stream",
     "text": [
      "Average epoch 2 loss: 0.1636009076913198\n"
     ]
    },
    {
     "name": "stderr",
     "output_type": "stream",
     "text": []
    },
    {
     "name": "stdout",
     "output_type": "stream",
     "text": [
      "Average epoch 3 loss: 0.15098719016710918\n"
     ]
    },
    {
     "name": "stderr",
     "output_type": "stream",
     "text": []
    },
    {
     "name": "stdout",
     "output_type": "stream",
     "text": [
      "Average epoch 4 loss: 0.13004513396422068\n"
     ]
    },
    {
     "name": "stderr",
     "output_type": "stream",
     "text": []
    },
    {
     "name": "stdout",
     "output_type": "stream",
     "text": [
      "Average epoch 5 loss: 0.11314168674548467\n"
     ]
    },
    {
     "name": "stderr",
     "output_type": "stream",
     "text": []
    },
    {
     "name": "stdout",
     "output_type": "stream",
     "text": [
      "Average epoch 6 loss: 0.11507284744580587\n"
     ]
    },
    {
     "name": "stderr",
     "output_type": "stream",
     "text": []
    },
    {
     "name": "stdout",
     "output_type": "stream",
     "text": [
      "Average epoch 7 loss: 0.1057509601076444\n"
     ]
    },
    {
     "name": "stderr",
     "output_type": "stream",
     "text": []
    },
    {
     "name": "stdout",
     "output_type": "stream",
     "text": [
      "Average epoch 8 loss: 0.09521731353998185\n"
     ]
    },
    {
     "name": "stderr",
     "output_type": "stream",
     "text": []
    },
    {
     "name": "stdout",
     "output_type": "stream",
     "text": [
      "Average epoch 9 loss: 0.09282050196727117\n"
     ]
    },
    {
     "name": "stderr",
     "output_type": "stream",
     "text": []
    },
    {
     "name": "stdout",
     "output_type": "stream",
     "text": [
      "Average epoch 10 loss: 0.08877835182348887\n"
     ]
    },
    {
     "name": "stderr",
     "output_type": "stream",
     "text": []
    },
    {
     "name": "stdout",
     "output_type": "stream",
     "text": [
      "Average epoch 11 loss: 0.08470930225849152\n"
     ]
    },
    {
     "name": "stderr",
     "output_type": "stream",
     "text": []
    },
    {
     "name": "stdout",
     "output_type": "stream",
     "text": [
      "Average epoch 12 loss: 0.08236180653174718\n"
     ]
    },
    {
     "name": "stderr",
     "output_type": "stream",
     "text": []
    },
    {
     "name": "stdout",
     "output_type": "stream",
     "text": [
      "Average epoch 13 loss: 0.07999162180026373\n"
     ]
    },
    {
     "name": "stderr",
     "output_type": "stream",
     "text": []
    },
    {
     "name": "stdout",
     "output_type": "stream",
     "text": [
      "Average epoch 14 loss: 0.07791733359495799\n"
     ]
    },
    {
     "name": "stderr",
     "output_type": "stream",
     "text": []
    },
    {
     "name": "stdout",
     "output_type": "stream",
     "text": [
      "Average epoch 15 loss: 0.07621198108593623\n"
     ]
    },
    {
     "name": "stderr",
     "output_type": "stream",
     "text": []
    },
    {
     "name": "stdout",
     "output_type": "stream",
     "text": [
      "Average epoch 16 loss: 0.07476287625829378\n"
     ]
    },
    {
     "name": "stderr",
     "output_type": "stream",
     "text": []
    },
    {
     "name": "stdout",
     "output_type": "stream",
     "text": [
      "Average epoch 17 loss: 0.07334578002492587\n"
     ]
    },
    {
     "name": "stderr",
     "output_type": "stream",
     "text": []
    },
    {
     "name": "stdout",
     "output_type": "stream",
     "text": [
      "Average epoch 18 loss: 0.07222030189037323\n"
     ]
    },
    {
     "name": "stderr",
     "output_type": "stream",
     "text": []
    },
    {
     "name": "stdout",
     "output_type": "stream",
     "text": [
      "Average epoch 19 loss: 0.07110988792777062\n"
     ]
    },
    {
     "name": "stderr",
     "output_type": "stream",
     "text": []
    },
    {
     "name": "stdout",
     "output_type": "stream",
     "text": [
      "Average epoch 20 loss: 0.07013097624182701\n"
     ]
    },
    {
     "name": "stderr",
     "output_type": "stream",
     "text": []
    },
    {
     "name": "stdout",
     "output_type": "stream",
     "text": [
      "Average epoch 21 loss: 0.06922257430752118\n"
     ]
    },
    {
     "name": "stderr",
     "output_type": "stream",
     "text": []
    },
    {
     "name": "stdout",
     "output_type": "stream",
     "text": [
      "Average epoch 22 loss: 0.06844976392785708\n"
     ]
    },
    {
     "name": "stderr",
     "output_type": "stream",
     "text": []
    },
    {
     "name": "stdout",
     "output_type": "stream",
     "text": [
      "Average epoch 23 loss: 0.06770526091257731\n"
     ]
    },
    {
     "name": "stderr",
     "output_type": "stream",
     "text": []
    },
    {
     "name": "stdout",
     "output_type": "stream",
     "text": [
      "Average epoch 24 loss: 0.06706139348546664\n"
     ]
    }
   ],
   "source": [
    "n_epochs = 25\n",
    "trainer.train(n_epochs=n_epochs, train_loader=train_loader, \n",
    "              loss_func=loss_func, optimizer=optimizer, \n",
    "              exp_name=f'LapL1_z_{N_COMPONENTS}_zlr_1e2_{n_epochs}_epochs', model_path='')"
   ]
  },
  {
   "cell_type": "code",
   "execution_count": null,
   "id": "hTWuZ6119XBD",
   "metadata": {
    "colab": {
     "base_uri": "https://localhost:8080/"
    },
    "id": "hTWuZ6119XBD",
    "outputId": "08e57efa-254d-4ddb-fefb-791a06bfbf15"
   },
   "outputs": [
    {
     "data": {
      "text/plain": [
       "<All keys matched successfully>"
      ]
     },
     "execution_count": 26,
     "metadata": {},
     "output_type": "execute_result"
    }
   ],
   "source": [
    "# model.load_state_dict(torch.load('/content/m/z_32_zlr_1e2_50_epochs_model.pth'))"
   ]
  },
  {
   "cell_type": "code",
   "execution_count": null,
   "id": "pgQjJnr42LjY",
   "metadata": {
    "id": "pgQjJnr42LjY"
   },
   "outputs": [],
   "source": [
    "z = nn.Parameter(torch.randn(size=(len(val_loader.dataset), N_COMPONENTS), device=device, requires_grad=True))\n",
    "optimizer = torch.optim.SGD([z], lr=5e1)\n",
    "loss_func = LapLoss(max_levels=2, channels=1, device=device)\n",
    "\n",
    "validator = Validator(model, val_loader, loss_func, optimizer)"
   ]
  },
  {
   "cell_type": "code",
   "execution_count": null,
   "id": "f715F4T-2LWy",
   "metadata": {
    "colab": {
     "base_uri": "https://localhost:8080/"
    },
    "id": "f715F4T-2LWy",
    "outputId": "c2ecf093-8d3e-4133-db1b-cbff60eb6947"
   },
   "outputs": [
    {
     "name": "stderr",
     "output_type": "stream",
     "text": []
    }
   ],
   "source": [
    "z_new, loss = validator.validate(z=z, min_loss=0.06, max_iter=60)"
   ]
  },
  {
   "cell_type": "code",
   "execution_count": null,
   "id": "nr2YvxTE2LNj",
   "metadata": {
    "colab": {
     "base_uri": "https://localhost:8080/",
     "height": 720
    },
    "id": "nr2YvxTE2LNj",
    "outputId": "33635ed2-f4ac-4251-8c5b-eee17871aa75"
   },
   "outputs": [
    {
     "data": {
      "text/plain": [
       "<matplotlib.image.AxesImage at 0x7f1bbfd7b510>"
      ]
     },
     "execution_count": 34,
     "metadata": {},
     "output_type": "execute_result"
    },
    {
     "data": {
      "image/png": "[encoded data removed]",
      "text/plain": [
       "<Figure size 1296x864 with 1 Axes>"
      ]
     },
     "metadata": {
      "needs_background": "light"
     },
     "output_type": "display_data"
    }
   ],
   "source": [
    "idx = torch.randint(low=0, high=len(z), size=(8, ))\n",
    "img = []\n",
    "for i in idx:\n",
    "    img.append(train_loader.dataset[i][1])\n",
    "img = torch.cat(img).view(8, 1, 28, 28)\n",
    "res = validator.visualize_val_results(z=model.z[idx], img=img)\n",
    "plt.figure(figsize=(18, 12))\n",
    "plt.imshow(res)"
   ]
  },
  {
   "cell_type": "code",
   "execution_count": null,
   "id": "4QeD-SQPHeN0",
   "metadata": {
    "colab": {
     "base_uri": "https://localhost:8080/"
    },
    "id": "4QeD-SQPHeN0",
    "outputId": "d77089ee-7ee4-49e2-a123-e2054496b759"
   },
   "outputs": [
    {
     "data": {
      "text/plain": [
       "torch.Size([8, 1, 28, 28])"
      ]
     },
     "execution_count": 27,
     "metadata": {},
     "output_type": "execute_result"
    }
   ],
   "source": [
    "img.shape"
   ]
  },
  {
   "cell_type": "code",
   "execution_count": null,
   "id": "WUd7-Vp03TG-",
   "metadata": {
    "id": "WUd7-Vp03TG-"
   },
   "outputs": [],
   "source": [
    "!rm -rf glo-flow"
   ]
  },
  {
   "cell_type": "code",
   "execution_count": null,
   "id": "NDzOw3mA3S7e",
   "metadata": {
    "id": "NDzOw3mA3S7e"
   },
   "outputs": [],
   "source": []
  },
  {
   "cell_type": "markdown",
   "id": "Z-Zw2k-yky97",
   "metadata": {
    "id": "Z-Zw2k-yky97"
   },
   "source": [
    "Now let's look at the model Z distribution!"
   ]
  },
  {
   "cell_type": "code",
   "execution_count": null,
   "id": "OjzswSoCkyTf",
   "metadata": {
    "id": "OjzswSoCkyTf"
   },
   "outputs": [],
   "source": [
    "z_numpy = model.z.detach().cpu().numpy()"
   ]
  },
  {
   "cell_type": "code",
   "execution_count": null,
   "id": "_oOwC70mlQUC",
   "metadata": {
    "colab": {
     "base_uri": "https://localhost:8080/",
     "height": 282
    },
    "id": "_oOwC70mlQUC",
    "outputId": "c6579475-a897-49a8-9e61-655a10474e8f"
   },
   "outputs": [
    {
     "data": {
      "text/plain": [
       "<matplotlib.legend.Legend at 0x7f1bbfcd0b50>"
      ]
     },
     "execution_count": 36,
     "metadata": {},
     "output_type": "execute_result"
    },
    {
     "data": {
      "image/png": "[encoded data removed]",
      "text/plain": [
       "<Figure size 432x288 with 1 Axes>"
      ]
     },
     "metadata": {
      "needs_background": "light"
     },
     "output_type": "display_data"
    }
   ],
   "source": [
    "plt.plot(z_numpy.std(axis=0), label='std')\n",
    "plt.plot(z_numpy.mean(axis=0), label='mean')\n",
    "plt.legend()"
   ]
  },
  {
   "cell_type": "code",
   "execution_count": null,
   "id": "zLT6NisdlBcL",
   "metadata": {
    "colab": {
     "base_uri": "https://localhost:8080/",
     "height": 265
    },
    "id": "zLT6NisdlBcL",
    "outputId": "5673a4a5-21c3-40ec-b117-343c397c8678"
   },
   "outputs": [
    {
     "data": {
      "image/png": "[encoded data removed]",
      "text/plain": [
       "<Figure size 432x288 with 1 Axes>"
      ]
     },
     "metadata": {
      "needs_background": "light"
     },
     "output_type": "display_data"
    }
   ],
   "source": [
    "_ = plt.hist(z_numpy[:, 0], bins=50)"
   ]
  },
  {
   "cell_type": "code",
   "execution_count": null,
   "id": "VzsrTesxleZa",
   "metadata": {
    "colab": {
     "base_uri": "https://localhost:8080/",
     "height": 265
    },
    "id": "VzsrTesxleZa",
    "outputId": "8544e239-cd27-4da4-a7a6-4b481a109753"
   },
   "outputs": [
    {
     "data": {
      "image/png": "[encoded data removed]",
      "text/plain": [
       "<Figure size 432x288 with 1 Axes>"
      ]
     },
     "metadata": {
      "needs_background": "light"
     },
     "output_type": "display_data"
    }
   ],
   "source": [
    "_ = plt.hist(z_numpy[:, -10], bins=50)"
   ]
  },
  {
   "cell_type": "code",
   "execution_count": null,
   "id": "116debdf-f9ff-4811-96f4-2643adef7f7f",
   "metadata": {
    "id": "116debdf-f9ff-4811-96f4-2643adef7f7f",
    "outputId": "b2e93ed1-0206-46be-9505-d3e742fa7549"
   },
   "outputs": [
    {
     "data": {
      "text/plain": [
       "tensor([1, 3, 5])"
      ]
     },
     "execution_count": 27,
     "metadata": {},
     "output_type": "execute_result"
    }
   ],
   "source": [
    "a = torch.tensor([1, 2, 3])\n",
    "b = torch.tensor([0, 3, 5])\n",
    "torch.amax(torch.vstack([a, b]), dim=0)"
   ]
  },
  {
   "cell_type": "code",
   "execution_count": null,
   "id": "8faf3f0e-7185-4be6-8735-3886f9302bbd",
   "metadata": {
    "id": "8faf3f0e-7185-4be6-8735-3886f9302bbd",
    "outputId": "d91d86c6-6cca-4bb4-bfe9-64d523ec7d24"
   },
   "outputs": [
    {
     "data": {
      "text/plain": [
       "tensor([1, 2, 3])"
      ]
     },
     "execution_count": 22,
     "metadata": {},
     "output_type": "execute_result"
    }
   ],
   "source": [
    "a.long()"
   ]
  },
  {
   "cell_type": "code",
   "execution_count": null,
   "id": "13b5bd8e-f0ed-40fc-beb7-c2af59053a57",
   "metadata": {
    "colab": {
     "base_uri": "https://localhost:8080/"
    },
    "id": "13b5bd8e-f0ed-40fc-beb7-c2af59053a57",
    "outputId": "6f4468b0-b14c-4f8f-8c4e-c84e08ac9ebb"
   },
   "outputs": [
    {
     "name": "stderr",
     "output_type": "stream",
     "text": [
      "COMET INFO: ---------------------------\n",
      "COMET INFO: Comet.ml Experiment Summary\n",
      "COMET INFO: ---------------------------\n",
      "COMET INFO:   Data:\n",
      "COMET INFO:     display_summary_level : 1\n",
      "COMET INFO:     url                   : https://www.comet.ml/alexandernevarko/glo-mnist/e6cdd673a6a445f4b96988585c9e0e6e\n",
      "COMET INFO:   Metrics [count] (min, max):\n",
      "COMET INFO:     Average epoch train loss [25] : (0.06706139348546664, 0.19293082938989004)\n",
      "COMET INFO:     Train loss [46875]            : (0.053143858909606934, 0.24696052074432373)\n",
      "COMET INFO:     loss [5266]                   : (0.053791023790836334, 0.26565197110176086)\n",
      "COMET INFO:   Others:\n",
      "COMET INFO:     Name : LapL1_z_128_zlr_1e2_25_epochs\n",
      "COMET INFO:   Uploads:\n",
      "COMET INFO:     environment details : 1\n",
      "COMET INFO:     filename            : 1\n",
      "COMET INFO:     images              : 25\n",
      "COMET INFO:     installed packages  : 1\n",
      "COMET INFO:     model graph         : 1\n",
      "COMET INFO:     notebook            : 1\n",
      "COMET INFO:     os packages         : 1\n",
      "COMET INFO:     source_code         : 1\n",
      "COMET INFO: ---------------------------\n",
      "COMET INFO: Uploading metrics, params, and assets to Comet before program termination (may take several seconds)\n",
      "COMET INFO: The Python SDK has 3600 seconds to finish before aborting...\n"
     ]
    }
   ],
   "source": [
    "experiment.end()"
   ]
  },
  {
   "cell_type": "code",
   "execution_count": null,
   "id": "0b72dc7e-32d2-404c-8616-cea37a746132",
   "metadata": {
    "id": "0b72dc7e-32d2-404c-8616-cea37a746132"
   },
   "outputs": [],
   "source": []
  }
 ],
 "metadata": {
  "accelerator": "GPU",
  "colab": {
   "collapsed_sections": [],
   "name": "glo_mnist.ipynb",
   "provenance": []
  },
  "kernelspec": {
   "display_name": "Python 3",
   "language": "python",
   "name": "python3"
  },
  "language_info": {
   "codemirror_mode": {
    "name": "ipython",
    "version": 3
   },
   "file_extension": ".py",
   "mimetype": "text/x-python",
   "name": "python",
   "nbconvert_exporter": "python",
   "pygments_lexer": "ipython3",
   "version": "3.8.3"
  },
  "widgets": {
   "application/vnd.jupyter.widget-state+json": {
    "1b7e0570455c47ec8ecad9e6138e6af1": {
     "model_module": "@jupyter-widgets/controls",
     "model_module_version": "1.5.0",
     "model_name": "HTMLModel",
     "state": {
      "_dom_classes": [],
      "_model_module": "@jupyter-widgets/controls",
      "_model_module_version": "1.5.0",
      "_model_name": "HTMLModel",
      "_view_count": null,
      "_view_module": "@jupyter-widgets/controls",
      "_view_module_version": "1.5.0",
      "_view_name": "HTMLView",
      "description": "",
      "description_tooltip": null,
      "layout": "IPY_MODEL_e4d189f13db6425db8613e3359c25972",
      "placeholder": "​",
      "style": "IPY_MODEL_bd0a95aebfe7416590d78eba73e4aab6",
      "value": " 9913344/? [00:00&lt;00:00, 55065783.61it/s]"
     }
    },
    "1c20ba96c54348308aa4a76bfab71581": {
     "model_module": "@jupyter-widgets/base",
     "model_module_version": "1.2.0",
     "model_name": "LayoutModel",
     "state": {
      "_model_module": "@jupyter-widgets/base",
      "_model_module_version": "1.2.0",
      "_model_name": "LayoutModel",
      "_view_count": null,
      "_view_module": "@jupyter-widgets/base",
      "_view_module_version": "1.2.0",
      "_view_name": "LayoutView",
      "align_content": null,
      "align_items": null,
      "align_self": null,
      "border": null,
      "bottom": null,
      "display": null,
      "flex": null,
      "flex_flow": null,
      "grid_area": null,
      "grid_auto_columns": null,
      "grid_auto_flow": null,
      "grid_auto_rows": null,
      "grid_column": null,
      "grid_gap": null,
      "grid_row": null,
      "grid_template_areas": null,
      "grid_template_columns": null,
      "grid_template_rows": null,
      "height": null,
      "justify_content": null,
      "justify_items": null,
      "left": null,
      "margin": null,
      "max_height": null,
      "max_width": null,
      "min_height": null,
      "min_width": null,
      "object_fit": null,
      "object_position": null,
      "order": null,
      "overflow": null,
      "overflow_x": null,
      "overflow_y": null,
      "padding": null,
      "right": null,
      "top": null,
      "visibility": null,
      "width": null
     }
    },
    "1eafadafd3514fdd81302e4b296e0128": {
     "model_module": "@jupyter-widgets/controls",
     "model_module_version": "1.5.0",
     "model_name": "ProgressStyleModel",
     "state": {
      "_model_module": "@jupyter-widgets/controls",
      "_model_module_version": "1.5.0",
      "_model_name": "ProgressStyleModel",
      "_view_count": null,
      "_view_module": "@jupyter-widgets/base",
      "_view_module_version": "1.2.0",
      "_view_name": "StyleView",
      "bar_color": null,
      "description_width": ""
     }
    },
    "23c897b4a3914d47a21ab6269a1ea43d": {
     "model_module": "@jupyter-widgets/base",
     "model_module_version": "1.2.0",
     "model_name": "LayoutModel",
     "state": {
      "_model_module": "@jupyter-widgets/base",
      "_model_module_version": "1.2.0",
      "_model_name": "LayoutModel",
      "_view_count": null,
      "_view_module": "@jupyter-widgets/base",
      "_view_module_version": "1.2.0",
      "_view_name": "LayoutView",
      "align_content": null,
      "align_items": null,
      "align_self": null,
      "border": null,
      "bottom": null,
      "display": null,
      "flex": null,
      "flex_flow": null,
      "grid_area": null,
      "grid_auto_columns": null,
      "grid_auto_flow": null,
      "grid_auto_rows": null,
      "grid_column": null,
      "grid_gap": null,
      "grid_row": null,
      "grid_template_areas": null,
      "grid_template_columns": null,
      "grid_template_rows": null,
      "height": null,
      "justify_content": null,
      "justify_items": null,
      "left": null,
      "margin": null,
      "max_height": null,
      "max_width": null,
      "min_height": null,
      "min_width": null,
      "object_fit": null,
      "object_position": null,
      "order": null,
      "overflow": null,
      "overflow_x": null,
      "overflow_y": null,
      "padding": null,
      "right": null,
      "top": null,
      "visibility": null,
      "width": null
     }
    },
    "2ac692357c644e7aa4c882c88022316c": {
     "model_module": "@jupyter-widgets/base",
     "model_module_version": "1.2.0",
     "model_name": "LayoutModel",
     "state": {
      "_model_module": "@jupyter-widgets/base",
      "_model_module_version": "1.2.0",
      "_model_name": "LayoutModel",
      "_view_count": null,
      "_view_module": "@jupyter-widgets/base",
      "_view_module_version": "1.2.0",
      "_view_name": "LayoutView",
      "align_content": null,
      "align_items": null,
      "align_self": null,
      "border": null,
      "bottom": null,
      "display": null,
      "flex": null,
      "flex_flow": null,
      "grid_area": null,
      "grid_auto_columns": null,
      "grid_auto_flow": null,
      "grid_auto_rows": null,
      "grid_column": null,
      "grid_gap": null,
      "grid_row": null,
      "grid_template_areas": null,
      "grid_template_columns": null,
      "grid_template_rows": null,
      "height": null,
      "justify_content": null,
      "justify_items": null,
      "left": null,
      "margin": null,
      "max_height": null,
      "max_width": null,
      "min_height": null,
      "min_width": null,
      "object_fit": null,
      "object_position": null,
      "order": null,
      "overflow": null,
      "overflow_x": null,
      "overflow_y": null,
      "padding": null,
      "right": null,
      "top": null,
      "visibility": null,
      "width": null
     }
    },
    "33a1f6c0995b44fdb65fc5078e7f242f": {
     "model_module": "@jupyter-widgets/base",
     "model_module_version": "1.2.0",
     "model_name": "LayoutModel",
     "state": {
      "_model_module": "@jupyter-widgets/base",
      "_model_module_version": "1.2.0",
      "_model_name": "LayoutModel",
      "_view_count": null,
      "_view_module": "@jupyter-widgets/base",
      "_view_module_version": "1.2.0",
      "_view_name": "LayoutView",
      "align_content": null,
      "align_items": null,
      "align_self": null,
      "border": null,
      "bottom": null,
      "display": null,
      "flex": null,
      "flex_flow": null,
      "grid_area": null,
      "grid_auto_columns": null,
      "grid_auto_flow": null,
      "grid_auto_rows": null,
      "grid_column": null,
      "grid_gap": null,
      "grid_row": null,
      "grid_template_areas": null,
      "grid_template_columns": null,
      "grid_template_rows": null,
      "height": null,
      "justify_content": null,
      "justify_items": null,
      "left": null,
      "margin": null,
      "max_height": null,
      "max_width": null,
      "min_height": null,
      "min_width": null,
      "object_fit": null,
      "object_position": null,
      "order": null,
      "overflow": null,
      "overflow_x": null,
      "overflow_y": null,
      "padding": null,
      "right": null,
      "top": null,
      "visibility": null,
      "width": null
     }
    },
    "3da2530d28694577947258c2e1b5b994": {
     "model_module": "@jupyter-widgets/controls",
     "model_module_version": "1.5.0",
     "model_name": "HTMLModel",
     "state": {
      "_dom_classes": [],
      "_model_module": "@jupyter-widgets/controls",
      "_model_module_version": "1.5.0",
      "_model_name": "HTMLModel",
      "_view_count": null,
      "_view_module": "@jupyter-widgets/controls",
      "_view_module_version": "1.5.0",
      "_view_name": "HTMLView",
      "description": "",
      "description_tooltip": null,
      "layout": "IPY_MODEL_91745f69a133431ea4bdb9d1f0d311de",
      "placeholder": "​",
      "style": "IPY_MODEL_ec0af8b76b464a599824b8c2ed14cbc7",
      "value": ""
     }
    },
    "45db66bc03214f31a699800d26eb7b0f": {
     "model_module": "@jupyter-widgets/base",
     "model_module_version": "1.2.0",
     "model_name": "LayoutModel",
     "state": {
      "_model_module": "@jupyter-widgets/base",
      "_model_module_version": "1.2.0",
      "_model_name": "LayoutModel",
      "_view_count": null,
      "_view_module": "@jupyter-widgets/base",
      "_view_module_version": "1.2.0",
      "_view_name": "LayoutView",
      "align_content": null,
      "align_items": null,
      "align_self": null,
      "border": null,
      "bottom": null,
      "display": null,
      "flex": null,
      "flex_flow": null,
      "grid_area": null,
      "grid_auto_columns": null,
      "grid_auto_flow": null,
      "grid_auto_rows": null,
      "grid_column": null,
      "grid_gap": null,
      "grid_row": null,
      "grid_template_areas": null,
      "grid_template_columns": null,
      "grid_template_rows": null,
      "height": null,
      "justify_content": null,
      "justify_items": null,
      "left": null,
      "margin": null,
      "max_height": null,
      "max_width": null,
      "min_height": null,
      "min_width": null,
      "object_fit": null,
      "object_position": null,
      "order": null,
      "overflow": null,
      "overflow_x": null,
      "overflow_y": null,
      "padding": null,
      "right": null,
      "top": null,
      "visibility": null,
      "width": null
     }
    },
    "46bedb48d3ac4e50b3f5cfd682fb0fba": {
     "model_module": "@jupyter-widgets/base",
     "model_module_version": "1.2.0",
     "model_name": "LayoutModel",
     "state": {
      "_model_module": "@jupyter-widgets/base",
      "_model_module_version": "1.2.0",
      "_model_name": "LayoutModel",
      "_view_count": null,
      "_view_module": "@jupyter-widgets/base",
      "_view_module_version": "1.2.0",
      "_view_name": "LayoutView",
      "align_content": null,
      "align_items": null,
      "align_self": null,
      "border": null,
      "bottom": null,
      "display": null,
      "flex": null,
      "flex_flow": null,
      "grid_area": null,
      "grid_auto_columns": null,
      "grid_auto_flow": null,
      "grid_auto_rows": null,
      "grid_column": null,
      "grid_gap": null,
      "grid_row": null,
      "grid_template_areas": null,
      "grid_template_columns": null,
      "grid_template_rows": null,
      "height": null,
      "justify_content": null,
      "justify_items": null,
      "left": null,
      "margin": null,
      "max_height": null,
      "max_width": null,
      "min_height": null,
      "min_width": null,
      "object_fit": null,
      "object_position": null,
      "order": null,
      "overflow": null,
      "overflow_x": null,
      "overflow_y": null,
      "padding": null,
      "right": null,
      "top": null,
      "visibility": null,
      "width": null
     }
    },
    "47a3b9da5fb2428d8697be84811aeb0f": {
     "model_module": "@jupyter-widgets/controls",
     "model_module_version": "1.5.0",
     "model_name": "FloatProgressModel",
     "state": {
      "_dom_classes": [],
      "_model_module": "@jupyter-widgets/controls",
      "_model_module_version": "1.5.0",
      "_model_name": "FloatProgressModel",
      "_view_count": null,
      "_view_module": "@jupyter-widgets/controls",
      "_view_module_version": "1.5.0",
      "_view_name": "ProgressView",
      "bar_style": "success",
      "description": "",
      "description_tooltip": null,
      "layout": "IPY_MODEL_951c3f22ad534c81abe9f372a757c42f",
      "max": 9912422,
      "min": 0,
      "orientation": "horizontal",
      "style": "IPY_MODEL_79bef6e71fb545259baa7b91914e5f7a",
      "value": 9912422
     }
    },
    "63cf1d14799f497c8bcd6775061cdd78": {
     "model_module": "@jupyter-widgets/controls",
     "model_module_version": "1.5.0",
     "model_name": "DescriptionStyleModel",
     "state": {
      "_model_module": "@jupyter-widgets/controls",
      "_model_module_version": "1.5.0",
      "_model_name": "DescriptionStyleModel",
      "_view_count": null,
      "_view_module": "@jupyter-widgets/base",
      "_view_module_version": "1.2.0",
      "_view_name": "StyleView",
      "description_width": ""
     }
    },
    "66d9d96565d2447796ba4588a937b128": {
     "model_module": "@jupyter-widgets/controls",
     "model_module_version": "1.5.0",
     "model_name": "HBoxModel",
     "state": {
      "_dom_classes": [],
      "_model_module": "@jupyter-widgets/controls",
      "_model_module_version": "1.5.0",
      "_model_name": "HBoxModel",
      "_view_count": null,
      "_view_module": "@jupyter-widgets/controls",
      "_view_module_version": "1.5.0",
      "_view_name": "HBoxView",
      "box_style": "",
      "children": [
       "IPY_MODEL_ae732c5d36cd4b2dabafbd380e62f561",
       "IPY_MODEL_d07f35477d694d49985e83b2a95d8145",
       "IPY_MODEL_b5888871a9cd4cb98f705aa892cb5a31"
      ],
      "layout": "IPY_MODEL_daf0cc80e863444ab27c25c5347d9432"
     }
    },
    "7827b7dec0d24668913033ee18cc03f7": {
     "model_module": "@jupyter-widgets/base",
     "model_module_version": "1.2.0",
     "model_name": "LayoutModel",
     "state": {
      "_model_module": "@jupyter-widgets/base",
      "_model_module_version": "1.2.0",
      "_model_name": "LayoutModel",
      "_view_count": null,
      "_view_module": "@jupyter-widgets/base",
      "_view_module_version": "1.2.0",
      "_view_name": "LayoutView",
      "align_content": null,
      "align_items": null,
      "align_self": null,
      "border": null,
      "bottom": null,
      "display": null,
      "flex": null,
      "flex_flow": null,
      "grid_area": null,
      "grid_auto_columns": null,
      "grid_auto_flow": null,
      "grid_auto_rows": null,
      "grid_column": null,
      "grid_gap": null,
      "grid_row": null,
      "grid_template_areas": null,
      "grid_template_columns": null,
      "grid_template_rows": null,
      "height": null,
      "justify_content": null,
      "justify_items": null,
      "left": null,
      "margin": null,
      "max_height": null,
      "max_width": null,
      "min_height": null,
      "min_width": null,
      "object_fit": null,
      "object_position": null,
      "order": null,
      "overflow": null,
      "overflow_x": null,
      "overflow_y": null,
      "padding": null,
      "right": null,
      "top": null,
      "visibility": null,
      "width": null
     }
    },
    "79bef6e71fb545259baa7b91914e5f7a": {
     "model_module": "@jupyter-widgets/controls",
     "model_module_version": "1.5.0",
     "model_name": "ProgressStyleModel",
     "state": {
      "_model_module": "@jupyter-widgets/controls",
      "_model_module_version": "1.5.0",
      "_model_name": "ProgressStyleModel",
      "_view_count": null,
      "_view_module": "@jupyter-widgets/base",
      "_view_module_version": "1.2.0",
      "_view_name": "StyleView",
      "bar_color": null,
      "description_width": ""
     }
    },
    "7a9a8c7456b14d2e886088ed422d0f52": {
     "model_module": "@jupyter-widgets/controls",
     "model_module_version": "1.5.0",
     "model_name": "DescriptionStyleModel",
     "state": {
      "_model_module": "@jupyter-widgets/controls",
      "_model_module_version": "1.5.0",
      "_model_name": "DescriptionStyleModel",
      "_view_count": null,
      "_view_module": "@jupyter-widgets/base",
      "_view_module_version": "1.2.0",
      "_view_name": "StyleView",
      "description_width": ""
     }
    },
    "88131621178e494c8d599f13f7270789": {
     "model_module": "@jupyter-widgets/controls",
     "model_module_version": "1.5.0",
     "model_name": "DescriptionStyleModel",
     "state": {
      "_model_module": "@jupyter-widgets/controls",
      "_model_module_version": "1.5.0",
      "_model_name": "DescriptionStyleModel",
      "_view_count": null,
      "_view_module": "@jupyter-widgets/base",
      "_view_module_version": "1.2.0",
      "_view_name": "StyleView",
      "description_width": ""
     }
    },
    "8be5c3c1a9cf472c884b50d758b73284": {
     "model_module": "@jupyter-widgets/base",
     "model_module_version": "1.2.0",
     "model_name": "LayoutModel",
     "state": {
      "_model_module": "@jupyter-widgets/base",
      "_model_module_version": "1.2.0",
      "_model_name": "LayoutModel",
      "_view_count": null,
      "_view_module": "@jupyter-widgets/base",
      "_view_module_version": "1.2.0",
      "_view_name": "LayoutView",
      "align_content": null,
      "align_items": null,
      "align_self": null,
      "border": null,
      "bottom": null,
      "display": null,
      "flex": null,
      "flex_flow": null,
      "grid_area": null,
      "grid_auto_columns": null,
      "grid_auto_flow": null,
      "grid_auto_rows": null,
      "grid_column": null,
      "grid_gap": null,
      "grid_row": null,
      "grid_template_areas": null,
      "grid_template_columns": null,
      "grid_template_rows": null,
      "height": null,
      "justify_content": null,
      "justify_items": null,
      "left": null,
      "margin": null,
      "max_height": null,
      "max_width": null,
      "min_height": null,
      "min_width": null,
      "object_fit": null,
      "object_position": null,
      "order": null,
      "overflow": null,
      "overflow_x": null,
      "overflow_y": null,
      "padding": null,
      "right": null,
      "top": null,
      "visibility": null,
      "width": null
     }
    },
    "91745f69a133431ea4bdb9d1f0d311de": {
     "model_module": "@jupyter-widgets/base",
     "model_module_version": "1.2.0",
     "model_name": "LayoutModel",
     "state": {
      "_model_module": "@jupyter-widgets/base",
      "_model_module_version": "1.2.0",
      "_model_name": "LayoutModel",
      "_view_count": null,
      "_view_module": "@jupyter-widgets/base",
      "_view_module_version": "1.2.0",
      "_view_name": "LayoutView",
      "align_content": null,
      "align_items": null,
      "align_self": null,
      "border": null,
      "bottom": null,
      "display": null,
      "flex": null,
      "flex_flow": null,
      "grid_area": null,
      "grid_auto_columns": null,
      "grid_auto_flow": null,
      "grid_auto_rows": null,
      "grid_column": null,
      "grid_gap": null,
      "grid_row": null,
      "grid_template_areas": null,
      "grid_template_columns": null,
      "grid_template_rows": null,
      "height": null,
      "justify_content": null,
      "justify_items": null,
      "left": null,
      "margin": null,
      "max_height": null,
      "max_width": null,
      "min_height": null,
      "min_width": null,
      "object_fit": null,
      "object_position": null,
      "order": null,
      "overflow": null,
      "overflow_x": null,
      "overflow_y": null,
      "padding": null,
      "right": null,
      "top": null,
      "visibility": null,
      "width": null
     }
    },
    "93b0710e40c14ee8b20fbd969924f889": {
     "model_module": "@jupyter-widgets/controls",
     "model_module_version": "1.5.0",
     "model_name": "HTMLModel",
     "state": {
      "_dom_classes": [],
      "_model_module": "@jupyter-widgets/controls",
      "_model_module_version": "1.5.0",
      "_model_name": "HTMLModel",
      "_view_count": null,
      "_view_module": "@jupyter-widgets/controls",
      "_view_module_version": "1.5.0",
      "_view_name": "HTMLView",
      "description": "",
      "description_tooltip": null,
      "layout": "IPY_MODEL_c94a42f4b7b84e208c7a78417d71b621",
      "placeholder": "​",
      "style": "IPY_MODEL_de09f92abfc54942a0977b661a9afb98",
      "value": " 5120/? [00:00&lt;00:00, 159123.55it/s]"
     }
    },
    "951c3f22ad534c81abe9f372a757c42f": {
     "model_module": "@jupyter-widgets/base",
     "model_module_version": "1.2.0",
     "model_name": "LayoutModel",
     "state": {
      "_model_module": "@jupyter-widgets/base",
      "_model_module_version": "1.2.0",
      "_model_name": "LayoutModel",
      "_view_count": null,
      "_view_module": "@jupyter-widgets/base",
      "_view_module_version": "1.2.0",
      "_view_name": "LayoutView",
      "align_content": null,
      "align_items": null,
      "align_self": null,
      "border": null,
      "bottom": null,
      "display": null,
      "flex": null,
      "flex_flow": null,
      "grid_area": null,
      "grid_auto_columns": null,
      "grid_auto_flow": null,
      "grid_auto_rows": null,
      "grid_column": null,
      "grid_gap": null,
      "grid_row": null,
      "grid_template_areas": null,
      "grid_template_columns": null,
      "grid_template_rows": null,
      "height": null,
      "justify_content": null,
      "justify_items": null,
      "left": null,
      "margin": null,
      "max_height": null,
      "max_width": null,
      "min_height": null,
      "min_width": null,
      "object_fit": null,
      "object_position": null,
      "order": null,
      "overflow": null,
      "overflow_x": null,
      "overflow_y": null,
      "padding": null,
      "right": null,
      "top": null,
      "visibility": null,
      "width": null
     }
    },
    "9b1ee11c76604179979ad10bd4b5ea3c": {
     "model_module": "@jupyter-widgets/controls",
     "model_module_version": "1.5.0",
     "model_name": "HTMLModel",
     "state": {
      "_dom_classes": [],
      "_model_module": "@jupyter-widgets/controls",
      "_model_module_version": "1.5.0",
      "_model_name": "HTMLModel",
      "_view_count": null,
      "_view_module": "@jupyter-widgets/controls",
      "_view_module_version": "1.5.0",
      "_view_name": "HTMLView",
      "description": "",
      "description_tooltip": null,
      "layout": "IPY_MODEL_33a1f6c0995b44fdb65fc5078e7f242f",
      "placeholder": "​",
      "style": "IPY_MODEL_63cf1d14799f497c8bcd6775061cdd78",
      "value": ""
     }
    },
    "9e71f17d3fe44a90a769a1d0bed84a2c": {
     "model_module": "@jupyter-widgets/base",
     "model_module_version": "1.2.0",
     "model_name": "LayoutModel",
     "state": {
      "_model_module": "@jupyter-widgets/base",
      "_model_module_version": "1.2.0",
      "_model_name": "LayoutModel",
      "_view_count": null,
      "_view_module": "@jupyter-widgets/base",
      "_view_module_version": "1.2.0",
      "_view_name": "LayoutView",
      "align_content": null,
      "align_items": null,
      "align_self": null,
      "border": null,
      "bottom": null,
      "display": null,
      "flex": null,
      "flex_flow": null,
      "grid_area": null,
      "grid_auto_columns": null,
      "grid_auto_flow": null,
      "grid_auto_rows": null,
      "grid_column": null,
      "grid_gap": null,
      "grid_row": null,
      "grid_template_areas": null,
      "grid_template_columns": null,
      "grid_template_rows": null,
      "height": null,
      "justify_content": null,
      "justify_items": null,
      "left": null,
      "margin": null,
      "max_height": null,
      "max_width": null,
      "min_height": null,
      "min_width": null,
      "object_fit": null,
      "object_position": null,
      "order": null,
      "overflow": null,
      "overflow_x": null,
      "overflow_y": null,
      "padding": null,
      "right": null,
      "top": null,
      "visibility": null,
      "width": null
     }
    },
    "aa89413fb8dc4d97990e42efb65b7a63": {
     "model_module": "@jupyter-widgets/controls",
     "model_module_version": "1.5.0",
     "model_name": "HTMLModel",
     "state": {
      "_dom_classes": [],
      "_model_module": "@jupyter-widgets/controls",
      "_model_module_version": "1.5.0",
      "_model_name": "HTMLModel",
      "_view_count": null,
      "_view_module": "@jupyter-widgets/controls",
      "_view_module_version": "1.5.0",
      "_view_name": "HTMLView",
      "description": "",
      "description_tooltip": null,
      "layout": "IPY_MODEL_45db66bc03214f31a699800d26eb7b0f",
      "placeholder": "​",
      "style": "IPY_MODEL_88131621178e494c8d599f13f7270789",
      "value": " 29696/? [00:00&lt;00:00, 1100835.67it/s]"
     }
    },
    "ae732c5d36cd4b2dabafbd380e62f561": {
     "model_module": "@jupyter-widgets/controls",
     "model_module_version": "1.5.0",
     "model_name": "HTMLModel",
     "state": {
      "_dom_classes": [],
      "_model_module": "@jupyter-widgets/controls",
      "_model_module_version": "1.5.0",
      "_model_name": "HTMLModel",
      "_view_count": null,
      "_view_module": "@jupyter-widgets/controls",
      "_view_module_version": "1.5.0",
      "_view_name": "HTMLView",
      "description": "",
      "description_tooltip": null,
      "layout": "IPY_MODEL_fdad2e166e084b9eb71b8315b6f9530d",
      "placeholder": "​",
      "style": "IPY_MODEL_fe3651ec98e5484d84a6e36911891553",
      "value": ""
     }
    },
    "b5888871a9cd4cb98f705aa892cb5a31": {
     "model_module": "@jupyter-widgets/controls",
     "model_module_version": "1.5.0",
     "model_name": "HTMLModel",
     "state": {
      "_dom_classes": [],
      "_model_module": "@jupyter-widgets/controls",
      "_model_module_version": "1.5.0",
      "_model_name": "HTMLModel",
      "_view_count": null,
      "_view_module": "@jupyter-widgets/controls",
      "_view_module_version": "1.5.0",
      "_view_name": "HTMLView",
      "description": "",
      "description_tooltip": null,
      "layout": "IPY_MODEL_46bedb48d3ac4e50b3f5cfd682fb0fba",
      "placeholder": "​",
      "style": "IPY_MODEL_7a9a8c7456b14d2e886088ed422d0f52",
      "value": " 1649664/? [00:00&lt;00:00, 25387059.58it/s]"
     }
    },
    "ba49158d759e4e65a54bf3dbd4d74e54": {
     "model_module": "@jupyter-widgets/controls",
     "model_module_version": "1.5.0",
     "model_name": "FloatProgressModel",
     "state": {
      "_dom_classes": [],
      "_model_module": "@jupyter-widgets/controls",
      "_model_module_version": "1.5.0",
      "_model_name": "FloatProgressModel",
      "_view_count": null,
      "_view_module": "@jupyter-widgets/controls",
      "_view_module_version": "1.5.0",
      "_view_name": "ProgressView",
      "bar_style": "success",
      "description": "",
      "description_tooltip": null,
      "layout": "IPY_MODEL_1c20ba96c54348308aa4a76bfab71581",
      "max": 4542,
      "min": 0,
      "orientation": "horizontal",
      "style": "IPY_MODEL_e21fa8435ab44e488eaa3702c34eaa3f",
      "value": 4542
     }
    },
    "bb43f883834644eb8205d77abac9547d": {
     "model_module": "@jupyter-widgets/controls",
     "model_module_version": "1.5.0",
     "model_name": "HBoxModel",
     "state": {
      "_dom_classes": [],
      "_model_module": "@jupyter-widgets/controls",
      "_model_module_version": "1.5.0",
      "_model_name": "HBoxModel",
      "_view_count": null,
      "_view_module": "@jupyter-widgets/controls",
      "_view_module_version": "1.5.0",
      "_view_name": "HBoxView",
      "box_style": "",
      "children": [
       "IPY_MODEL_e10562a69d5b408686ba089bc47dd3b5",
       "IPY_MODEL_ba49158d759e4e65a54bf3dbd4d74e54",
       "IPY_MODEL_93b0710e40c14ee8b20fbd969924f889"
      ],
      "layout": "IPY_MODEL_8be5c3c1a9cf472c884b50d758b73284"
     }
    },
    "bd0a95aebfe7416590d78eba73e4aab6": {
     "model_module": "@jupyter-widgets/controls",
     "model_module_version": "1.5.0",
     "model_name": "DescriptionStyleModel",
     "state": {
      "_model_module": "@jupyter-widgets/controls",
      "_model_module_version": "1.5.0",
      "_model_name": "DescriptionStyleModel",
      "_view_count": null,
      "_view_module": "@jupyter-widgets/base",
      "_view_module_version": "1.2.0",
      "_view_name": "StyleView",
      "description_width": ""
     }
    },
    "c94a42f4b7b84e208c7a78417d71b621": {
     "model_module": "@jupyter-widgets/base",
     "model_module_version": "1.2.0",
     "model_name": "LayoutModel",
     "state": {
      "_model_module": "@jupyter-widgets/base",
      "_model_module_version": "1.2.0",
      "_model_name": "LayoutModel",
      "_view_count": null,
      "_view_module": "@jupyter-widgets/base",
      "_view_module_version": "1.2.0",
      "_view_name": "LayoutView",
      "align_content": null,
      "align_items": null,
      "align_self": null,
      "border": null,
      "bottom": null,
      "display": null,
      "flex": null,
      "flex_flow": null,
      "grid_area": null,
      "grid_auto_columns": null,
      "grid_auto_flow": null,
      "grid_auto_rows": null,
      "grid_column": null,
      "grid_gap": null,
      "grid_row": null,
      "grid_template_areas": null,
      "grid_template_columns": null,
      "grid_template_rows": null,
      "height": null,
      "justify_content": null,
      "justify_items": null,
      "left": null,
      "margin": null,
      "max_height": null,
      "max_width": null,
      "min_height": null,
      "min_width": null,
      "object_fit": null,
      "object_position": null,
      "order": null,
      "overflow": null,
      "overflow_x": null,
      "overflow_y": null,
      "padding": null,
      "right": null,
      "top": null,
      "visibility": null,
      "width": null
     }
    },
    "cdfb6fcfc81f4bdcb500bf8c8ece2473": {
     "model_module": "@jupyter-widgets/controls",
     "model_module_version": "1.5.0",
     "model_name": "HBoxModel",
     "state": {
      "_dom_classes": [],
      "_model_module": "@jupyter-widgets/controls",
      "_model_module_version": "1.5.0",
      "_model_name": "HBoxModel",
      "_view_count": null,
      "_view_module": "@jupyter-widgets/controls",
      "_view_module_version": "1.5.0",
      "_view_name": "HBoxView",
      "box_style": "",
      "children": [
       "IPY_MODEL_9b1ee11c76604179979ad10bd4b5ea3c",
       "IPY_MODEL_fb38cdd4e3b84b2c8192c4156c5ee6c9",
       "IPY_MODEL_aa89413fb8dc4d97990e42efb65b7a63"
      ],
      "layout": "IPY_MODEL_fceb0a2b790a4328b89d482085afeb5b"
     }
    },
    "d07f35477d694d49985e83b2a95d8145": {
     "model_module": "@jupyter-widgets/controls",
     "model_module_version": "1.5.0",
     "model_name": "FloatProgressModel",
     "state": {
      "_dom_classes": [],
      "_model_module": "@jupyter-widgets/controls",
      "_model_module_version": "1.5.0",
      "_model_name": "FloatProgressModel",
      "_view_count": null,
      "_view_module": "@jupyter-widgets/controls",
      "_view_module_version": "1.5.0",
      "_view_name": "ProgressView",
      "bar_style": "success",
      "description": "",
      "description_tooltip": null,
      "layout": "IPY_MODEL_23c897b4a3914d47a21ab6269a1ea43d",
      "max": 1648877,
      "min": 0,
      "orientation": "horizontal",
      "style": "IPY_MODEL_e8625f1df48641f4ac67fc2cb91edb21",
      "value": 1648877
     }
    },
    "daf0cc80e863444ab27c25c5347d9432": {
     "model_module": "@jupyter-widgets/base",
     "model_module_version": "1.2.0",
     "model_name": "LayoutModel",
     "state": {
      "_model_module": "@jupyter-widgets/base",
      "_model_module_version": "1.2.0",
      "_model_name": "LayoutModel",
      "_view_count": null,
      "_view_module": "@jupyter-widgets/base",
      "_view_module_version": "1.2.0",
      "_view_name": "LayoutView",
      "align_content": null,
      "align_items": null,
      "align_self": null,
      "border": null,
      "bottom": null,
      "display": null,
      "flex": null,
      "flex_flow": null,
      "grid_area": null,
      "grid_auto_columns": null,
      "grid_auto_flow": null,
      "grid_auto_rows": null,
      "grid_column": null,
      "grid_gap": null,
      "grid_row": null,
      "grid_template_areas": null,
      "grid_template_columns": null,
      "grid_template_rows": null,
      "height": null,
      "justify_content": null,
      "justify_items": null,
      "left": null,
      "margin": null,
      "max_height": null,
      "max_width": null,
      "min_height": null,
      "min_width": null,
      "object_fit": null,
      "object_position": null,
      "order": null,
      "overflow": null,
      "overflow_x": null,
      "overflow_y": null,
      "padding": null,
      "right": null,
      "top": null,
      "visibility": null,
      "width": null
     }
    },
    "de09f92abfc54942a0977b661a9afb98": {
     "model_module": "@jupyter-widgets/controls",
     "model_module_version": "1.5.0",
     "model_name": "DescriptionStyleModel",
     "state": {
      "_model_module": "@jupyter-widgets/controls",
      "_model_module_version": "1.5.0",
      "_model_name": "DescriptionStyleModel",
      "_view_count": null,
      "_view_module": "@jupyter-widgets/base",
      "_view_module_version": "1.2.0",
      "_view_name": "StyleView",
      "description_width": ""
     }
    },
    "e10562a69d5b408686ba089bc47dd3b5": {
     "model_module": "@jupyter-widgets/controls",
     "model_module_version": "1.5.0",
     "model_name": "HTMLModel",
     "state": {
      "_dom_classes": [],
      "_model_module": "@jupyter-widgets/controls",
      "_model_module_version": "1.5.0",
      "_model_name": "HTMLModel",
      "_view_count": null,
      "_view_module": "@jupyter-widgets/controls",
      "_view_module_version": "1.5.0",
      "_view_name": "HTMLView",
      "description": "",
      "description_tooltip": null,
      "layout": "IPY_MODEL_7827b7dec0d24668913033ee18cc03f7",
      "placeholder": "​",
      "style": "IPY_MODEL_f1316fcf655d4f059753a752ee2da847",
      "value": ""
     }
    },
    "e21fa8435ab44e488eaa3702c34eaa3f": {
     "model_module": "@jupyter-widgets/controls",
     "model_module_version": "1.5.0",
     "model_name": "ProgressStyleModel",
     "state": {
      "_model_module": "@jupyter-widgets/controls",
      "_model_module_version": "1.5.0",
      "_model_name": "ProgressStyleModel",
      "_view_count": null,
      "_view_module": "@jupyter-widgets/base",
      "_view_module_version": "1.2.0",
      "_view_name": "StyleView",
      "bar_color": null,
      "description_width": ""
     }
    },
    "e4d189f13db6425db8613e3359c25972": {
     "model_module": "@jupyter-widgets/base",
     "model_module_version": "1.2.0",
     "model_name": "LayoutModel",
     "state": {
      "_model_module": "@jupyter-widgets/base",
      "_model_module_version": "1.2.0",
      "_model_name": "LayoutModel",
      "_view_count": null,
      "_view_module": "@jupyter-widgets/base",
      "_view_module_version": "1.2.0",
      "_view_name": "LayoutView",
      "align_content": null,
      "align_items": null,
      "align_self": null,
      "border": null,
      "bottom": null,
      "display": null,
      "flex": null,
      "flex_flow": null,
      "grid_area": null,
      "grid_auto_columns": null,
      "grid_auto_flow": null,
      "grid_auto_rows": null,
      "grid_column": null,
      "grid_gap": null,
      "grid_row": null,
      "grid_template_areas": null,
      "grid_template_columns": null,
      "grid_template_rows": null,
      "height": null,
      "justify_content": null,
      "justify_items": null,
      "left": null,
      "margin": null,
      "max_height": null,
      "max_width": null,
      "min_height": null,
      "min_width": null,
      "object_fit": null,
      "object_position": null,
      "order": null,
      "overflow": null,
      "overflow_x": null,
      "overflow_y": null,
      "padding": null,
      "right": null,
      "top": null,
      "visibility": null,
      "width": null
     }
    },
    "e8625f1df48641f4ac67fc2cb91edb21": {
     "model_module": "@jupyter-widgets/controls",
     "model_module_version": "1.5.0",
     "model_name": "ProgressStyleModel",
     "state": {
      "_model_module": "@jupyter-widgets/controls",
      "_model_module_version": "1.5.0",
      "_model_name": "ProgressStyleModel",
      "_view_count": null,
      "_view_module": "@jupyter-widgets/base",
      "_view_module_version": "1.2.0",
      "_view_name": "StyleView",
      "bar_color": null,
      "description_width": ""
     }
    },
    "ec0af8b76b464a599824b8c2ed14cbc7": {
     "model_module": "@jupyter-widgets/controls",
     "model_module_version": "1.5.0",
     "model_name": "DescriptionStyleModel",
     "state": {
      "_model_module": "@jupyter-widgets/controls",
      "_model_module_version": "1.5.0",
      "_model_name": "DescriptionStyleModel",
      "_view_count": null,
      "_view_module": "@jupyter-widgets/base",
      "_view_module_version": "1.2.0",
      "_view_name": "StyleView",
      "description_width": ""
     }
    },
    "f1316fcf655d4f059753a752ee2da847": {
     "model_module": "@jupyter-widgets/controls",
     "model_module_version": "1.5.0",
     "model_name": "DescriptionStyleModel",
     "state": {
      "_model_module": "@jupyter-widgets/controls",
      "_model_module_version": "1.5.0",
      "_model_name": "DescriptionStyleModel",
      "_view_count": null,
      "_view_module": "@jupyter-widgets/base",
      "_view_module_version": "1.2.0",
      "_view_name": "StyleView",
      "description_width": ""
     }
    },
    "fb38cdd4e3b84b2c8192c4156c5ee6c9": {
     "model_module": "@jupyter-widgets/controls",
     "model_module_version": "1.5.0",
     "model_name": "FloatProgressModel",
     "state": {
      "_dom_classes": [],
      "_model_module": "@jupyter-widgets/controls",
      "_model_module_version": "1.5.0",
      "_model_name": "FloatProgressModel",
      "_view_count": null,
      "_view_module": "@jupyter-widgets/controls",
      "_view_module_version": "1.5.0",
      "_view_name": "ProgressView",
      "bar_style": "success",
      "description": "",
      "description_tooltip": null,
      "layout": "IPY_MODEL_2ac692357c644e7aa4c882c88022316c",
      "max": 28881,
      "min": 0,
      "orientation": "horizontal",
      "style": "IPY_MODEL_1eafadafd3514fdd81302e4b296e0128",
      "value": 28881
     }
    },
    "fb7a93ad28ea42f48fae59a04a6a0a7f": {
     "model_module": "@jupyter-widgets/controls",
     "model_module_version": "1.5.0",
     "model_name": "HBoxModel",
     "state": {
      "_dom_classes": [],
      "_model_module": "@jupyter-widgets/controls",
      "_model_module_version": "1.5.0",
      "_model_name": "HBoxModel",
      "_view_count": null,
      "_view_module": "@jupyter-widgets/controls",
      "_view_module_version": "1.5.0",
      "_view_name": "HBoxView",
      "box_style": "",
      "children": [
       "IPY_MODEL_3da2530d28694577947258c2e1b5b994",
       "IPY_MODEL_47a3b9da5fb2428d8697be84811aeb0f",
       "IPY_MODEL_1b7e0570455c47ec8ecad9e6138e6af1"
      ],
      "layout": "IPY_MODEL_9e71f17d3fe44a90a769a1d0bed84a2c"
     }
    },
    "fceb0a2b790a4328b89d482085afeb5b": {
     "model_module": "@jupyter-widgets/base",
     "model_module_version": "1.2.0",
     "model_name": "LayoutModel",
     "state": {
      "_model_module": "@jupyter-widgets/base",
      "_model_module_version": "1.2.0",
      "_model_name": "LayoutModel",
      "_view_count": null,
      "_view_module": "@jupyter-widgets/base",
      "_view_module_version": "1.2.0",
      "_view_name": "LayoutView",
      "align_content": null,
      "align_items": null,
      "align_self": null,
      "border": null,
      "bottom": null,
      "display": null,
      "flex": null,
      "flex_flow": null,
      "grid_area": null,
      "grid_auto_columns": null,
      "grid_auto_flow": null,
      "grid_auto_rows": null,
      "grid_column": null,
      "grid_gap": null,
      "grid_row": null,
      "grid_template_areas": null,
      "grid_template_columns": null,
      "grid_template_rows": null,
      "height": null,
      "justify_content": null,
      "justify_items": null,
      "left": null,
      "margin": null,
      "max_height": null,
      "max_width": null,
      "min_height": null,
      "min_width": null,
      "object_fit": null,
      "object_position": null,
      "order": null,
      "overflow": null,
      "overflow_x": null,
      "overflow_y": null,
      "padding": null,
      "right": null,
      "top": null,
      "visibility": null,
      "width": null
     }
    },
    "fdad2e166e084b9eb71b8315b6f9530d": {
     "model_module": "@jupyter-widgets/base",
     "model_module_version": "1.2.0",
     "model_name": "LayoutModel",
     "state": {
      "_model_module": "@jupyter-widgets/base",
      "_model_module_version": "1.2.0",
      "_model_name": "LayoutModel",
      "_view_count": null,
      "_view_module": "@jupyter-widgets/base",
      "_view_module_version": "1.2.0",
      "_view_name": "LayoutView",
      "align_content": null,
      "align_items": null,
      "align_self": null,
      "border": null,
      "bottom": null,
      "display": null,
      "flex": null,
      "flex_flow": null,
      "grid_area": null,
      "grid_auto_columns": null,
      "grid_auto_flow": null,
      "grid_auto_rows": null,
      "grid_column": null,
      "grid_gap": null,
      "grid_row": null,
      "grid_template_areas": null,
      "grid_template_columns": null,
      "grid_template_rows": null,
      "height": null,
      "justify_content": null,
      "justify_items": null,
      "left": null,
      "margin": null,
      "max_height": null,
      "max_width": null,
      "min_height": null,
      "min_width": null,
      "object_fit": null,
      "object_position": null,
      "order": null,
      "overflow": null,
      "overflow_x": null,
      "overflow_y": null,
      "padding": null,
      "right": null,
      "top": null,
      "visibility": null,
      "width": null
     }
    },
    "fe3651ec98e5484d84a6e36911891553": {
     "model_module": "@jupyter-widgets/controls",
     "model_module_version": "1.5.0",
     "model_name": "DescriptionStyleModel",
     "state": {
      "_model_module": "@jupyter-widgets/controls",
      "_model_module_version": "1.5.0",
      "_model_name": "DescriptionStyleModel",
      "_view_count": null,
      "_view_module": "@jupyter-widgets/base",
      "_view_module_version": "1.2.0",
      "_view_name": "StyleView",
      "description_width": ""
     }
    }
   }
  }
 },
 "nbformat": 4,
 "nbformat_minor": 5
}

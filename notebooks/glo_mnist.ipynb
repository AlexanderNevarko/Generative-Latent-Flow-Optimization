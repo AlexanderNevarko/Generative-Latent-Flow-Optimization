{
 "cells": [
  {
   "cell_type": "code",
   "execution_count": 46,
   "id": "daff1500-c281-4cb7-8bed-c358647a3af9",
   "metadata": {},
   "outputs": [],
   "source": [
    "import sys\n",
    "import numpy as np\n",
    "import torch\n",
    "from torch.utils.data import DataLoader, Dataset\n",
    "from sklearn.decomposition import PCA\n",
    "from sklearn.datasets import fetch_openml\n",
    "from scipy.stats import gaussian_kde\n",
    "import matplotlib.pyplot as plt\n",
    "\n",
    "import torchvision\n",
    "from torchvision.datasets import MNIST\n",
    "from torchvision import transforms\n",
    "\n",
    "BW_METHOD = 0.1"
   ]
  },
  {
   "cell_type": "code",
   "execution_count": 2,
   "id": "613ccabe-4902-4b38-b421-1bf56b444464",
   "metadata": {},
   "outputs": [],
   "source": [
    "mnist = fetch_openml(name='mnist_784', version='active')"
   ]
  },
  {
   "cell_type": "code",
   "execution_count": 3,
   "id": "099dd52a-997d-40e1-8c46-24224080b6b3",
   "metadata": {},
   "outputs": [],
   "source": [
    "pca = PCA(n_components=128)\n",
    "data = pca.fit_transform(mnist.data)"
   ]
  },
  {
   "cell_type": "code",
   "execution_count": 4,
   "id": "a497387d-28c8-4318-882d-b036129c51de",
   "metadata": {},
   "outputs": [
    {
     "data": {
      "text/plain": [
       "(128, 70000)"
      ]
     },
     "execution_count": 4,
     "metadata": {},
     "output_type": "execute_result"
    }
   ],
   "source": [
    "data = data.T\n",
    "data.shape"
   ]
  },
  {
   "cell_type": "code",
   "execution_count": 5,
   "id": "3dc63319-0714-4c1e-8415-2e1a6f0b061e",
   "metadata": {},
   "outputs": [
    {
     "data": {
      "image/png": "[encoded data removed]",
      "text/plain": [
       "<Figure size 432x288 with 1 Axes>"
      ]
     },
     "metadata": {
      "needs_background": "light"
     },
     "output_type": "display_data"
    }
   ],
   "source": [
    "i = 1\n",
    "plt.hist(data[i], bins=50)\n",
    "kernel = gaussian_kde(data, bw_method=BW_METHOD)\n",
    "sample = kernel.resample(30_000)\n",
    "_ = plt.hist(sample[i], bins=50)"
   ]
  },
  {
   "cell_type": "markdown",
   "id": "4f943dcb-ed80-42cd-970c-915c32c09579",
   "metadata": {},
   "source": [
    "### Training the model"
   ]
  },
  {
   "cell_type": "code",
   "execution_count": 37,
   "id": "a336fdd9-df72-4f32-a6fe-47ec3e7d4391",
   "metadata": {},
   "outputs": [],
   "source": [
    "mnist_train = MNIST(root='../datasets', train=True, transform=transforms.ToTensor(), download=True)"
   ]
  },
  {
   "cell_type": "code",
   "execution_count": 40,
   "id": "2cba2a68-f216-49d3-8da6-0efe77c522f0",
   "metadata": {},
   "outputs": [],
   "source": [
    "class IdxDataset(Dataset):\n",
    "    \"\"\"Wrap a dataset to map indices to images\n",
    "    In other words, instead of producing (X, y) it produces (idx, X). The label\n",
    "    y is not relevant for our task.\n",
    "    \"\"\"\n",
    "    def __init__(self, base_dataset):\n",
    "        self.base = base_dataset\n",
    "\n",
    "    def __len__(self):\n",
    "        return len(self.base)\n",
    "\n",
    "    def __getitem__(self, idx):\n",
    "        img, target = self.base[idx]\n",
    "        return (idx, img, target)\n",
    "        \n",
    "\n",
    "mnist_train = IdxDataset(mnist_train)"
   ]
  },
  {
   "cell_type": "code",
   "execution_count": 44,
   "id": "32f8b9e1-e0ee-4dbf-8472-d6e1614b7b1c",
   "metadata": {},
   "outputs": [],
   "source": [
    "train_loader = DataLoader(mnist_train, batch_size=8, shuffle=True)"
   ]
  },
  {
   "cell_type": "code",
   "execution_count": 59,
   "id": "ba4df639-2c9c-4e92-af14-b0b9e385ea06",
   "metadata": {},
   "outputs": [],
   "source": [
    "_, img = zip(*[(idx, img_) for idx, img_, _ in train_loader])\n",
    "img = torch.cat(img)"
   ]
  },
  {
   "cell_type": "code",
   "execution_count": 63,
   "id": "118237cf-b5c8-4203-a5dd-6dc3651db4a2",
   "metadata": {},
   "outputs": [],
   "source": [
    "res = img.view(img.shape[0], -1).numpy()"
   ]
  },
  {
   "cell_type": "code",
   "execution_count": 70,
   "id": "7817bcdd-4560-4ab4-9b2c-e4ba3386383c",
   "metadata": {},
   "outputs": [],
   "source": [
    "def generate_samples(dataloader, z_dim=128, bw_method=0.1):\n",
    "    _, img = zip(*[(idx, img_) for idx, img_, _ in dataloader])\n",
    "    img = torch.cat(img)\n",
    "    img = img.view(img.shape[0], -1).numpy()\n",
    "    pca = PCA(n_components=z_dim)\n",
    "    z_dataset = pca.fit_transform(img).T\n",
    "    kernel = gaussian_kde(z_dataset, bw_method=bw_method)\n",
    "    samples = kernel.resample(size=len(dataloader.dataset)).T\n",
    "    samples = torch.tensor(samples, requires_grad=True)\n",
    "    return samples"
   ]
  },
  {
   "cell_type": "code",
   "execution_count": 71,
   "id": "6f125f69-bbc9-409a-96d8-035044fb8356",
   "metadata": {},
   "outputs": [],
   "source": [
    "z = generate_samples(train_loader)"
   ]
  },
  {
   "cell_type": "code",
   "execution_count": 73,
   "id": "0a186a07-5d81-422f-b7ca-d925e6c62d40",
   "metadata": {},
   "outputs": [
    {
     "data": {
      "text/plain": [
       "torch.Size([60000, 128])"
      ]
     },
     "execution_count": 73,
     "metadata": {},
     "output_type": "execute_result"
    }
   ],
   "source": [
    "z.shape"
   ]
  },
  {
   "cell_type": "code",
   "execution_count": 76,
   "id": "cf78f6d6-b745-426c-ad88-1e2b61a8506d",
   "metadata": {},
   "outputs": [
    {
     "data": {
      "text/plain": [
       "torch.Size([8, 1, 28, 28])"
      ]
     },
     "execution_count": 76,
     "metadata": {},
     "output_type": "execute_result"
    }
   ],
   "source": [
    "_, sample, _ = next(iter(train_loader))\n",
    "sample.shape"
   ]
  },
  {
   "cell_type": "code",
   "execution_count": null,
   "id": "203efbb1-116f-4d82-bb8b-1320d8d39c77",
   "metadata": {},
   "outputs": [],
   "source": []
  }
 ],
 "metadata": {
  "kernelspec": {
   "display_name": "Python 3",
   "language": "python",
   "name": "python3"
  },
  "language_info": {
   "codemirror_mode": {
    "name": "ipython",
    "version": 3
   },
   "file_extension": ".py",
   "mimetype": "text/x-python",
   "name": "python",
   "nbconvert_exporter": "python",
   "pygments_lexer": "ipython3",
   "version": "3.8.3"
  }
 },
 "nbformat": 4,
 "nbformat_minor": 5
}

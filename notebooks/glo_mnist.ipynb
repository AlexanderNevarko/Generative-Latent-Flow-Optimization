{
 "cells": [
  {
   "cell_type": "code",
   "execution_count": null,
   "id": "umGJoXYWNOK6",
   "metadata": {
    "id": "umGJoXYWNOK6"
   },
   "outputs": [],
   "source": [
    "!rm -rf glo-flow"
   ]
  },
  {
   "cell_type": "code",
   "execution_count": null,
   "id": "4CfBqEveSXzo",
   "metadata": {
    "colab": {
     "base_uri": "https://localhost:8080/"
    },
    "id": "4CfBqEveSXzo",
    "outputId": "7e20eb07-8be5-484d-e9dd-8c0f4daab4bc"
   },
   "outputs": [
    {
     "name": "stdout",
     "output_type": "stream",
     "text": [
      "Cloning into 'glo-flow'...\n",
      "remote: Enumerating objects: 244, done.\u001b[K\n",
      "remote: Counting objects: 100% (244/244), done.\u001b[K\n",
      "remote: Compressing objects: 100% (150/150), done.\u001b[K\n",
      "remote: Total 244 (delta 141), reused 178 (delta 80), pack-reused 0\u001b[K\n",
      "Receiving objects: 100% (244/244), 506.74 KiB | 2.63 MiB/s, done.\n",
      "Resolving deltas: 100% (141/141), done.\n"
     ]
    }
   ],
   "source": [
    "!git clone https://github.com/AlexanderNevarko/glo-flow.git"
   ]
  },
  {
   "cell_type": "code",
   "execution_count": 4,
   "id": "0192b5d2-76b9-43ba-a8a5-5b524e754053",
   "metadata": {
    "colab": {
     "base_uri": "https://localhost:8080/"
    },
    "id": "0192b5d2-76b9-43ba-a8a5-5b524e754053",
    "outputId": "ad8589ae-1369-444e-c34a-8efaf5a26ae5"
   },
   "outputs": [
    {
     "data": {
      "text/plain": [
       "['/Users/aleksandr/Desktop/newGAN/glo-flow/notebooks',\n",
       " '/Users/aleksandr/miniconda/lib/python38.zip',\n",
       " '/Users/aleksandr/miniconda/lib/python3.8',\n",
       " '/Users/aleksandr/miniconda/lib/python3.8/lib-dynload',\n",
       " '',\n",
       " '/Users/aleksandr/miniconda/lib/python3.8/site-packages',\n",
       " '/Users/aleksandr/Desktop/hacks/liders/Real-ESRGAN',\n",
       " '/Users/aleksandr/miniconda/lib/python3.8/site-packages/IPython/extensions',\n",
       " '/Users/aleksandr/.ipython',\n",
       " 'glo-flow/',\n",
       " 'glo-flow/']"
      ]
     },
     "execution_count": 4,
     "metadata": {},
     "output_type": "execute_result"
    }
   ],
   "source": [
    "import sys\n",
    "sys.path.append('glo-flow/')\n",
    "sys.path"
   ]
  },
  {
   "cell_type": "code",
   "execution_count": null,
   "id": "XK_17YmaMY37",
   "metadata": {
    "colab": {
     "base_uri": "https://localhost:8080/"
    },
    "id": "XK_17YmaMY37",
    "outputId": "f74a2272-576b-46a1-9549-37ee0a03d4d8"
   },
   "outputs": [
    {
     "name": "stdout",
     "output_type": "stream",
     "text": [
      "Drive already mounted at /content/drive; to attempt to forcibly remount, call drive.mount(\"/content/drive\", force_remount=True).\n"
     ]
    }
   ],
   "source": [
    "from google.colab import drive\n",
    "drive.mount('/content/drive')"
   ]
  },
  {
   "cell_type": "code",
   "execution_count": null,
   "id": "UNeWQoBYShAP",
   "metadata": {
    "id": "UNeWQoBYShAP"
   },
   "outputs": [],
   "source": [
    "!pip install -q comet_ml"
   ]
  },
  {
   "cell_type": "code",
   "execution_count": null,
   "id": "daff1500-c281-4cb7-8bed-c358647a3af9",
   "metadata": {
    "id": "daff1500-c281-4cb7-8bed-c358647a3af9"
   },
   "outputs": [],
   "source": [
    "from comet_ml import Experiment\n",
    "import numpy as np\n",
    "import torch\n",
    "import torch.nn as nn\n",
    "import torch.nn.functional as F\n",
    "from torch.utils.data import DataLoader, Dataset\n",
    "from sklearn.decomposition import PCA\n",
    "from sklearn.datasets import fetch_openml\n",
    "from sklearn.manifold import TSNE\n",
    "from scipy.stats import gaussian_kde\n",
    "import matplotlib.pyplot as plt\n",
    "\n",
    "import torchvision\n",
    "from torchvision.datasets import MNIST\n",
    "from torchvision import transforms\n",
    "\n",
    "BW_METHOD = 0.1\n",
    "N_COMPONENTS = 32"
   ]
  },
  {
   "cell_type": "markdown",
   "id": "4f943dcb-ed80-42cd-970c-915c32c09579",
   "metadata": {
    "id": "4f943dcb-ed80-42cd-970c-915c32c09579"
   },
   "source": [
    "### Training the model"
   ]
  },
  {
   "cell_type": "code",
   "execution_count": null,
   "id": "s69JC5gx9OjQ",
   "metadata": {
    "id": "s69JC5gx9OjQ"
   },
   "outputs": [],
   "source": [
    "# %load_ext autoreload\n",
    "# %autoreload 2"
   ]
  },
  {
   "cell_type": "code",
   "execution_count": 3,
   "id": "20427e89-88d0-47e2-9d10-d851f49d2d62",
   "metadata": {
    "id": "20427e89-88d0-47e2-9d10-d851f49d2d62"
   },
   "outputs": [
    {
     "ename": "ModuleNotFoundError",
     "evalue": "No module named 'modules'",
     "output_type": "error",
     "traceback": [
      "\u001b[0;31m---------------------------------------------------------------------------\u001b[0m",
      "\u001b[0;31mModuleNotFoundError\u001b[0m                       Traceback (most recent call last)",
      "\u001b[0;32m<ipython-input-3-161149d0bcca>\u001b[0m in \u001b[0;36m<module>\u001b[0;34m\u001b[0m\n\u001b[0;32m----> 1\u001b[0;31m \u001b[0;32mfrom\u001b[0m \u001b[0mmodules\u001b[0m\u001b[0;34m.\u001b[0m\u001b[0mglo_generator\u001b[0m \u001b[0;32mimport\u001b[0m \u001b[0mGLOGenerator\u001b[0m\u001b[0;34m,\u001b[0m \u001b[0mGLOModel\u001b[0m\u001b[0;34m,\u001b[0m \u001b[0mSampleGenerator\u001b[0m\u001b[0;34m\u001b[0m\u001b[0;34m\u001b[0m\u001b[0m\n\u001b[0m\u001b[1;32m      2\u001b[0m \u001b[0;32mfrom\u001b[0m \u001b[0mmodules\u001b[0m\u001b[0;34m.\u001b[0m\u001b[0mtrain\u001b[0m \u001b[0;32mimport\u001b[0m \u001b[0mGLOTrainer\u001b[0m\u001b[0;34m,\u001b[0m \u001b[0mvisualize_image_grid\u001b[0m\u001b[0;34m\u001b[0m\u001b[0;34m\u001b[0m\u001b[0m\n\u001b[1;32m      3\u001b[0m \u001b[0;32mfrom\u001b[0m \u001b[0mmodules\u001b[0m\u001b[0;34m.\u001b[0m\u001b[0mdataset\u001b[0m \u001b[0;32mimport\u001b[0m \u001b[0mIdxDataset\u001b[0m\u001b[0;34m\u001b[0m\u001b[0;34m\u001b[0m\u001b[0m\n\u001b[1;32m      4\u001b[0m \u001b[0;32mfrom\u001b[0m \u001b[0mmodules\u001b[0m\u001b[0;34m.\u001b[0m\u001b[0mvalidate\u001b[0m \u001b[0;32mimport\u001b[0m \u001b[0mValidator\u001b[0m\u001b[0;34m\u001b[0m\u001b[0;34m\u001b[0m\u001b[0m\n\u001b[1;32m      5\u001b[0m \u001b[0;32mfrom\u001b[0m \u001b[0mmodules\u001b[0m\u001b[0;34m.\u001b[0m\u001b[0mloss\u001b[0m \u001b[0;32mimport\u001b[0m \u001b[0mLapLoss\u001b[0m\u001b[0;34m\u001b[0m\u001b[0;34m\u001b[0m\u001b[0m\n",
      "\u001b[0;31mModuleNotFoundError\u001b[0m: No module named 'modules'"
     ]
    }
   ],
   "source": [
    "from modules.glo_generator import GLOGenerator, GLOModel, SampleGenerator\n",
    "from modules.train import GLOTrainer, visualize_image_grid\n",
    "from modules.dataset import IdxDataset\n",
    "from modules.validate import Validator\n",
    "from modules.loss import LapLoss"
   ]
  },
  {
   "cell_type": "code",
   "execution_count": null,
   "id": "a336fdd9-df72-4f32-a6fe-47ec3e7d4391",
   "metadata": {
    "id": "a336fdd9-df72-4f32-a6fe-47ec3e7d4391"
   },
   "outputs": [],
   "source": [
    "mnist_train = MNIST(root='datasets', train=True, transform=transforms.ToTensor(), download=True)\n",
    "mnist_test = MNIST(root='datasets', train=False, transform=transforms.ToTensor(), download=True)"
   ]
  },
  {
   "cell_type": "code",
   "execution_count": null,
   "id": "2cba2a68-f216-49d3-8da6-0efe77c522f0",
   "metadata": {
    "id": "2cba2a68-f216-49d3-8da6-0efe77c522f0"
   },
   "outputs": [],
   "source": [
    "mnist_train = IdxDataset(mnist_train)\n",
    "mnist_test = IdxDataset(mnist_test)"
   ]
  },
  {
   "cell_type": "code",
   "execution_count": null,
   "id": "t3mBN5ft0fdS",
   "metadata": {
    "id": "t3mBN5ft0fdS"
   },
   "outputs": [],
   "source": [
    "train_loader = DataLoader(mnist_train, batch_size=64, shuffle=True, num_workers=1, pin_memory=True)\n",
    "sampler_init_train_loader = DataLoader(mnist_train, batch_size=64, shuffle=False)\n",
    "val_loader = DataLoader(mnist_test, batch_size=32, shuffle=False)"
   ]
  },
  {
   "cell_type": "code",
   "execution_count": null,
   "id": "61ef3862-42cc-4728-8a50-d8a288928799",
   "metadata": {
    "colab": {
     "base_uri": "https://localhost:8080/"
    },
    "id": "61ef3862-42cc-4728-8a50-d8a288928799",
    "outputId": "6def61d8-0174-4b5d-992d-f8fd838f2737"
   },
   "outputs": [
    {
     "data": {
      "text/plain": [
       "device(type='cuda')"
      ]
     },
     "execution_count": 11,
     "metadata": {},
     "output_type": "execute_result"
    }
   ],
   "source": [
    "device = torch.device('cuda') if torch.cuda.is_available() else torch.device('cpu')\n",
    "device"
   ]
  },
  {
   "cell_type": "code",
   "execution_count": null,
   "id": "32f8b9e1-e0ee-4dbf-8472-d6e1614b7b1c",
   "metadata": {
    "id": "32f8b9e1-e0ee-4dbf-8472-d6e1614b7b1c"
   },
   "outputs": [],
   "source": [
    "generator = GLOGenerator(min_channels=16,\n",
    "                         max_channels=128,\n",
    "                         noise_channels=N_COMPONENTS,\n",
    "                         num_blocks=3,\n",
    "                         dataloader=train_loader,\n",
    "                         normalization='ada',\n",
    "                         lrelu_slope=0).to(device)\n",
    "sample_generator = SampleGenerator(sampler_init_train_loader, z_dim=N_COMPONENTS, bw_method=BW_METHOD)\n",
    "model = GLOModel(generator, train_loader, sample_generator, sparse=True).to(device)"
   ]
  },
  {
   "cell_type": "code",
   "execution_count": null,
   "id": "203efbb1-116f-4d82-bb8b-1320d8d39c77",
   "metadata": {
    "colab": {
     "base_uri": "https://localhost:8080/"
    },
    "id": "203efbb1-116f-4d82-bb8b-1320d8d39c77",
    "outputId": "e7af4b35-088b-4cdf-b314-3708ecf5864d"
   },
   "outputs": [
    {
     "name": "stderr",
     "output_type": "stream",
     "text": [
      "COMET WARNING: As you are running in a Jupyter environment, you will need to call `experiment.end()` when finished to ensure all metrics and code are logged before exiting.\n",
      "COMET INFO: Couldn't find a Git repository in '/content' and lookings in parents. You can override where Comet is looking for a Git Patch by setting the configuration `COMET_GIT_DIRECTORY`\n",
      "COMET INFO: Experiment is live on comet.ml https://www.comet.ml/alexandernevarko/glo-mnist/710fae94211a4259946f1d90f630efba\n",
      "\n"
     ]
    }
   ],
   "source": [
    "experiment = Experiment(api_key='CfFmqDpTCtsdDkLooedZh7bs2',\n",
    "                        project_name='glo-mnist',\n",
    "                        workspace='alexandernevarko')"
   ]
  },
  {
   "cell_type": "code",
   "execution_count": null,
   "id": "6ccdc707-a71f-4601-9754-c7fb81296c1b",
   "metadata": {
    "id": "6ccdc707-a71f-4601-9754-c7fb81296c1b"
   },
   "outputs": [],
   "source": [
    "trainer = GLOTrainer(model, use_gpu=True, logger=experiment)"
   ]
  },
  {
   "cell_type": "code",
   "execution_count": null,
   "id": "354fe122-1b92-47a2-85a8-e6bd3605f85f",
   "metadata": {
    "id": "354fe122-1b92-47a2-85a8-e6bd3605f85f"
   },
   "outputs": [],
   "source": [
    "zlr = 1e-3\n",
    "gen_lr = 1e-3\n",
    "loss_func = LapLoss(max_levels=2, channels=1, device=device)\n",
    "g_optimizer = torch.optim.Adam(params=model.generator.parameters(), lr=gen_lr)\n",
    "z_optimizer = torch.optim.SparseAdam(params=model.z.parameters(), lr=zlr)"
   ]
  },
  {
   "cell_type": "code",
   "execution_count": null,
   "id": "0ad6c9a9-f97c-4898-8d44-18358892a706",
   "metadata": {
    "colab": {
     "base_uri": "https://localhost:8080/"
    },
    "id": "0ad6c9a9-f97c-4898-8d44-18358892a706",
    "outputId": "db33be2e-d735-4034-f021-b00bf95f225d"
   },
   "outputs": [
    {
     "name": "stderr",
     "output_type": "stream",
     "text": [
      "  0%|          | 0/938 [00:00<?, ?it/s]glo-flow/modules/glo.py:157: UserWarning:\n",
      "\n",
      "To copy construct from a tensor, it is recommended to use sourceTensor.clone().detach() or sourceTensor.clone().detach().requires_grad_(True), rather than torch.tensor(sourceTensor).\n",
      "\n",
      "/usr/local/lib/python3.7/dist-packages/torch/nn/functional.py:3635: UserWarning:\n",
      "\n",
      "Default upsampling behavior when mode=bilinear is changed to align_corners=False since 0.4.0. Please specify align_corners=True if the old behavior is desired. See the documentation of nn.Upsample for details.\n",
      "\n"
     ]
    },
    {
     "name": "stdout",
     "output_type": "stream",
     "text": [
      "Average epoch 0 loss: 0.05719688147115809\n"
     ]
    },
    {
     "name": "stderr",
     "output_type": "stream",
     "text": []
    },
    {
     "name": "stdout",
     "output_type": "stream",
     "text": [
      "Average epoch 1 loss: 0.03736641015936889\n"
     ]
    },
    {
     "name": "stderr",
     "output_type": "stream",
     "text": []
    },
    {
     "name": "stdout",
     "output_type": "stream",
     "text": [
      "Average epoch 2 loss: 0.03400549466715756\n"
     ]
    },
    {
     "name": "stderr",
     "output_type": "stream",
     "text": []
    },
    {
     "name": "stdout",
     "output_type": "stream",
     "text": [
      "Average epoch 3 loss: 0.03154529855926154\n"
     ]
    },
    {
     "name": "stderr",
     "output_type": "stream",
     "text": []
    },
    {
     "name": "stdout",
     "output_type": "stream",
     "text": [
      "Average epoch 4 loss: 0.0296944218939905\n"
     ]
    },
    {
     "name": "stderr",
     "output_type": "stream",
     "text": []
    },
    {
     "name": "stdout",
     "output_type": "stream",
     "text": [
      "Average epoch 5 loss: 0.028224508965145678\n"
     ]
    },
    {
     "name": "stderr",
     "output_type": "stream",
     "text": []
    },
    {
     "name": "stdout",
     "output_type": "stream",
     "text": [
      "Average epoch 6 loss: 0.02706743026180054\n"
     ]
    },
    {
     "name": "stderr",
     "output_type": "stream",
     "text": []
    },
    {
     "name": "stdout",
     "output_type": "stream",
     "text": [
      "Average epoch 7 loss: 0.02615528396253329\n"
     ]
    },
    {
     "name": "stderr",
     "output_type": "stream",
     "text": []
    },
    {
     "name": "stdout",
     "output_type": "stream",
     "text": [
      "Average epoch 8 loss: 0.025377045669503558\n"
     ]
    },
    {
     "name": "stderr",
     "output_type": "stream",
     "text": []
    },
    {
     "name": "stdout",
     "output_type": "stream",
     "text": [
      "Average epoch 9 loss: 0.02467691518866749\n"
     ]
    },
    {
     "name": "stderr",
     "output_type": "stream",
     "text": []
    },
    {
     "name": "stdout",
     "output_type": "stream",
     "text": [
      "Average epoch 10 loss: 0.024071343729633893\n"
     ]
    },
    {
     "name": "stderr",
     "output_type": "stream",
     "text": []
    },
    {
     "name": "stdout",
     "output_type": "stream",
     "text": [
      "Average epoch 11 loss: 0.023523348806572874\n"
     ]
    },
    {
     "name": "stderr",
     "output_type": "stream",
     "text": []
    },
    {
     "name": "stdout",
     "output_type": "stream",
     "text": [
      "Average epoch 12 loss: 0.023028912759427703\n"
     ]
    },
    {
     "name": "stderr",
     "output_type": "stream",
     "text": []
    },
    {
     "name": "stdout",
     "output_type": "stream",
     "text": [
      "Average epoch 13 loss: 0.022568832733420165\n"
     ]
    },
    {
     "name": "stderr",
     "output_type": "stream",
     "text": []
    },
    {
     "name": "stdout",
     "output_type": "stream",
     "text": [
      "Average epoch 14 loss: 0.02217742322739571\n"
     ]
    },
    {
     "name": "stderr",
     "output_type": "stream",
     "text": []
    },
    {
     "name": "stdout",
     "output_type": "stream",
     "text": [
      "Average epoch 15 loss: 0.02183245680034796\n"
     ]
    },
    {
     "name": "stderr",
     "output_type": "stream",
     "text": []
    },
    {
     "name": "stdout",
     "output_type": "stream",
     "text": [
      "Average epoch 16 loss: 0.021457723163163613\n"
     ]
    },
    {
     "name": "stderr",
     "output_type": "stream",
     "text": []
    },
    {
     "name": "stdout",
     "output_type": "stream",
     "text": [
      "Average epoch 17 loss: 0.021099948822689462\n"
     ]
    },
    {
     "name": "stderr",
     "output_type": "stream",
     "text": []
    },
    {
     "name": "stdout",
     "output_type": "stream",
     "text": [
      "Average epoch 18 loss: 0.020848916859419614\n"
     ]
    },
    {
     "name": "stderr",
     "output_type": "stream",
     "text": []
    },
    {
     "name": "stdout",
     "output_type": "stream",
     "text": [
      "Average epoch 19 loss: 0.02054688996319641\n"
     ]
    },
    {
     "name": "stderr",
     "output_type": "stream",
     "text": []
    },
    {
     "name": "stdout",
     "output_type": "stream",
     "text": [
      "Average epoch 20 loss: 0.020269816808863236\n"
     ]
    },
    {
     "name": "stderr",
     "output_type": "stream",
     "text": []
    },
    {
     "name": "stdout",
     "output_type": "stream",
     "text": [
      "Average epoch 21 loss: 0.02004754972427702\n"
     ]
    },
    {
     "name": "stderr",
     "output_type": "stream",
     "text": []
    },
    {
     "name": "stdout",
     "output_type": "stream",
     "text": [
      "Average epoch 22 loss: 0.01984339060861546\n"
     ]
    },
    {
     "name": "stderr",
     "output_type": "stream",
     "text": []
    },
    {
     "name": "stdout",
     "output_type": "stream",
     "text": [
      "Average epoch 23 loss: 0.019591620249518833\n"
     ]
    },
    {
     "name": "stderr",
     "output_type": "stream",
     "text": []
    },
    {
     "name": "stdout",
     "output_type": "stream",
     "text": [
      "Average epoch 24 loss: 0.01943275876946922\n"
     ]
    },
    {
     "name": "stderr",
     "output_type": "stream",
     "text": []
    },
    {
     "name": "stdout",
     "output_type": "stream",
     "text": [
      "Average epoch 25 loss: 0.01921332792154571\n"
     ]
    },
    {
     "name": "stderr",
     "output_type": "stream",
     "text": []
    },
    {
     "name": "stdout",
     "output_type": "stream",
     "text": [
      "Average epoch 26 loss: 0.019060233176977776\n"
     ]
    },
    {
     "name": "stderr",
     "output_type": "stream",
     "text": []
    },
    {
     "name": "stdout",
     "output_type": "stream",
     "text": [
      "Average epoch 27 loss: 0.018898481024560262\n"
     ]
    },
    {
     "name": "stderr",
     "output_type": "stream",
     "text": []
    },
    {
     "name": "stdout",
     "output_type": "stream",
     "text": [
      "Average epoch 28 loss: 0.018737225692028174\n"
     ]
    },
    {
     "name": "stderr",
     "output_type": "stream",
     "text": []
    },
    {
     "name": "stdout",
     "output_type": "stream",
     "text": [
      "Average epoch 29 loss: 0.018595148328699664\n"
     ]
    },
    {
     "name": "stderr",
     "output_type": "stream",
     "text": []
    },
    {
     "name": "stdout",
     "output_type": "stream",
     "text": [
      "Average epoch 30 loss: 0.018459318271244387\n"
     ]
    },
    {
     "name": "stderr",
     "output_type": "stream",
     "text": []
    },
    {
     "name": "stdout",
     "output_type": "stream",
     "text": [
      "Average epoch 31 loss: 0.018305477126241365\n"
     ]
    },
    {
     "name": "stderr",
     "output_type": "stream",
     "text": []
    },
    {
     "name": "stdout",
     "output_type": "stream",
     "text": [
      "Average epoch 32 loss: 0.01820046283693901\n"
     ]
    },
    {
     "name": "stderr",
     "output_type": "stream",
     "text": []
    },
    {
     "name": "stdout",
     "output_type": "stream",
     "text": [
      "Average epoch 33 loss: 0.018086143712729597\n"
     ]
    },
    {
     "name": "stderr",
     "output_type": "stream",
     "text": []
    },
    {
     "name": "stdout",
     "output_type": "stream",
     "text": [
      "Average epoch 34 loss: 0.01796917423014162\n"
     ]
    },
    {
     "name": "stderr",
     "output_type": "stream",
     "text": []
    },
    {
     "name": "stdout",
     "output_type": "stream",
     "text": [
      "Average epoch 35 loss: 0.01785890167571112\n"
     ]
    },
    {
     "name": "stderr",
     "output_type": "stream",
     "text": []
    },
    {
     "name": "stdout",
     "output_type": "stream",
     "text": [
      "Average epoch 36 loss: 0.01776655032031381\n"
     ]
    },
    {
     "name": "stderr",
     "output_type": "stream",
     "text": []
    },
    {
     "name": "stdout",
     "output_type": "stream",
     "text": [
      "Average epoch 37 loss: 0.017658229491341788\n"
     ]
    },
    {
     "name": "stderr",
     "output_type": "stream",
     "text": []
    },
    {
     "name": "stdout",
     "output_type": "stream",
     "text": [
      "Average epoch 38 loss: 0.01756067525174445\n"
     ]
    },
    {
     "name": "stderr",
     "output_type": "stream",
     "text": []
    },
    {
     "name": "stdout",
     "output_type": "stream",
     "text": [
      "Average epoch 39 loss: 0.017455521997795112\n"
     ]
    },
    {
     "name": "stderr",
     "output_type": "stream",
     "text": []
    },
    {
     "name": "stdout",
     "output_type": "stream",
     "text": [
      "Average epoch 40 loss: 0.01738751065263997\n"
     ]
    },
    {
     "name": "stderr",
     "output_type": "stream",
     "text": []
    },
    {
     "name": "stdout",
     "output_type": "stream",
     "text": [
      "Average epoch 41 loss: 0.017324268213236956\n"
     ]
    },
    {
     "name": "stderr",
     "output_type": "stream",
     "text": []
    },
    {
     "name": "stdout",
     "output_type": "stream",
     "text": [
      "Average epoch 42 loss: 0.017226099906397906\n"
     ]
    },
    {
     "name": "stderr",
     "output_type": "stream",
     "text": []
    },
    {
     "name": "stdout",
     "output_type": "stream",
     "text": [
      "Average epoch 43 loss: 0.017142246924102433\n"
     ]
    },
    {
     "name": "stderr",
     "output_type": "stream",
     "text": []
    },
    {
     "name": "stdout",
     "output_type": "stream",
     "text": [
      "Average epoch 44 loss: 0.017077340462457524\n"
     ]
    },
    {
     "name": "stderr",
     "output_type": "stream",
     "text": []
    },
    {
     "name": "stdout",
     "output_type": "stream",
     "text": [
      "Average epoch 45 loss: 0.01699846516202476\n"
     ]
    },
    {
     "name": "stderr",
     "output_type": "stream",
     "text": []
    },
    {
     "name": "stdout",
     "output_type": "stream",
     "text": [
      "Average epoch 46 loss: 0.01695253334736932\n"
     ]
    },
    {
     "name": "stderr",
     "output_type": "stream",
     "text": []
    },
    {
     "name": "stdout",
     "output_type": "stream",
     "text": [
      "Average epoch 47 loss: 0.016864036472001943\n"
     ]
    },
    {
     "name": "stderr",
     "output_type": "stream",
     "text": []
    },
    {
     "name": "stdout",
     "output_type": "stream",
     "text": [
      "Average epoch 48 loss: 0.016805497056711267\n"
     ]
    },
    {
     "name": "stderr",
     "output_type": "stream",
     "text": []
    },
    {
     "name": "stdout",
     "output_type": "stream",
     "text": [
      "Average epoch 49 loss: 0.016758284774789616\n"
     ]
    },
    {
     "name": "stderr",
     "output_type": "stream",
     "text": []
    },
    {
     "name": "stdout",
     "output_type": "stream",
     "text": [
      "Average epoch 50 loss: 0.01667631787261856\n"
     ]
    },
    {
     "name": "stderr",
     "output_type": "stream",
     "text": []
    },
    {
     "name": "stdout",
     "output_type": "stream",
     "text": [
      "Average epoch 51 loss: 0.016619330396188667\n"
     ]
    },
    {
     "name": "stderr",
     "output_type": "stream",
     "text": []
    },
    {
     "name": "stdout",
     "output_type": "stream",
     "text": [
      "Average epoch 52 loss: 0.016574126208570402\n"
     ]
    },
    {
     "name": "stderr",
     "output_type": "stream",
     "text": []
    },
    {
     "name": "stdout",
     "output_type": "stream",
     "text": [
      "Average epoch 53 loss: 0.01650957260002841\n"
     ]
    },
    {
     "name": "stderr",
     "output_type": "stream",
     "text": []
    },
    {
     "name": "stdout",
     "output_type": "stream",
     "text": [
      "Average epoch 54 loss: 0.016462371195120406\n"
     ]
    },
    {
     "name": "stderr",
     "output_type": "stream",
     "text": []
    },
    {
     "name": "stdout",
     "output_type": "stream",
     "text": [
      "Average epoch 55 loss: 0.01641156024106943\n"
     ]
    },
    {
     "name": "stderr",
     "output_type": "stream",
     "text": []
    },
    {
     "name": "stdout",
     "output_type": "stream",
     "text": [
      "Average epoch 56 loss: 0.016362045358405755\n"
     ]
    },
    {
     "name": "stderr",
     "output_type": "stream",
     "text": []
    },
    {
     "name": "stdout",
     "output_type": "stream",
     "text": [
      "Average epoch 57 loss: 0.016317927194183377\n"
     ]
    },
    {
     "name": "stderr",
     "output_type": "stream",
     "text": []
    },
    {
     "name": "stdout",
     "output_type": "stream",
     "text": [
      "Average epoch 58 loss: 0.016267022624341793\n"
     ]
    },
    {
     "name": "stderr",
     "output_type": "stream",
     "text": []
    },
    {
     "name": "stdout",
     "output_type": "stream",
     "text": [
      "Average epoch 59 loss: 0.01622082974547262\n"
     ]
    },
    {
     "name": "stderr",
     "output_type": "stream",
     "text": []
    },
    {
     "name": "stdout",
     "output_type": "stream",
     "text": [
      "Average epoch 60 loss: 0.0161793385374187\n"
     ]
    },
    {
     "name": "stderr",
     "output_type": "stream",
     "text": []
    },
    {
     "name": "stdout",
     "output_type": "stream",
     "text": [
      "Average epoch 61 loss: 0.016144008552437143\n"
     ]
    },
    {
     "name": "stderr",
     "output_type": "stream",
     "text": []
    },
    {
     "name": "stdout",
     "output_type": "stream",
     "text": [
      "Average epoch 62 loss: 0.01608187759886863\n"
     ]
    },
    {
     "name": "stderr",
     "output_type": "stream",
     "text": []
    },
    {
     "name": "stdout",
     "output_type": "stream",
     "text": [
      "Average epoch 63 loss: 0.016047952410731234\n"
     ]
    },
    {
     "name": "stderr",
     "output_type": "stream",
     "text": []
    },
    {
     "name": "stdout",
     "output_type": "stream",
     "text": [
      "Average epoch 64 loss: 0.01602614317327611\n"
     ]
    },
    {
     "name": "stderr",
     "output_type": "stream",
     "text": []
    },
    {
     "name": "stdout",
     "output_type": "stream",
     "text": [
      "Average epoch 65 loss: 0.01597780784043962\n"
     ]
    },
    {
     "name": "stderr",
     "output_type": "stream",
     "text": []
    },
    {
     "name": "stdout",
     "output_type": "stream",
     "text": [
      "Average epoch 66 loss: 0.015938098025101145\n"
     ]
    },
    {
     "name": "stderr",
     "output_type": "stream",
     "text": []
    },
    {
     "name": "stdout",
     "output_type": "stream",
     "text": [
      "Average epoch 67 loss: 0.015908891284492795\n"
     ]
    },
    {
     "name": "stderr",
     "output_type": "stream",
     "text": []
    },
    {
     "name": "stdout",
     "output_type": "stream",
     "text": [
      "Average epoch 68 loss: 0.0158744608627946\n"
     ]
    },
    {
     "name": "stderr",
     "output_type": "stream",
     "text": []
    },
    {
     "name": "stdout",
     "output_type": "stream",
     "text": [
      "Average epoch 69 loss: 0.015831351550276093\n"
     ]
    },
    {
     "name": "stderr",
     "output_type": "stream",
     "text": []
    },
    {
     "name": "stdout",
     "output_type": "stream",
     "text": [
      "Average epoch 70 loss: 0.015812378621963996\n"
     ]
    },
    {
     "name": "stderr",
     "output_type": "stream",
     "text": []
    },
    {
     "name": "stdout",
     "output_type": "stream",
     "text": [
      "Average epoch 71 loss: 0.01576845077519764\n"
     ]
    },
    {
     "name": "stderr",
     "output_type": "stream",
     "text": []
    },
    {
     "name": "stdout",
     "output_type": "stream",
     "text": [
      "Average epoch 72 loss: 0.01572833080063147\n"
     ]
    },
    {
     "name": "stderr",
     "output_type": "stream",
     "text": []
    },
    {
     "name": "stdout",
     "output_type": "stream",
     "text": [
      "Average epoch 73 loss: 0.01570002049076627\n"
     ]
    },
    {
     "name": "stderr",
     "output_type": "stream",
     "text": []
    },
    {
     "name": "stdout",
     "output_type": "stream",
     "text": [
      "Average epoch 74 loss: 0.015659175602707274\n"
     ]
    },
    {
     "name": "stderr",
     "output_type": "stream",
     "text": []
    },
    {
     "name": "stdout",
     "output_type": "stream",
     "text": [
      "Average epoch 75 loss: 0.015627157291584114\n"
     ]
    },
    {
     "name": "stderr",
     "output_type": "stream",
     "text": []
    },
    {
     "name": "stdout",
     "output_type": "stream",
     "text": [
      "Average epoch 76 loss: 0.015607823049828315\n"
     ]
    },
    {
     "name": "stderr",
     "output_type": "stream",
     "text": []
    },
    {
     "name": "stdout",
     "output_type": "stream",
     "text": [
      "Average epoch 77 loss: 0.015595343409737608\n"
     ]
    },
    {
     "name": "stderr",
     "output_type": "stream",
     "text": []
    },
    {
     "name": "stdout",
     "output_type": "stream",
     "text": [
      "Average epoch 78 loss: 0.015548629255325937\n"
     ]
    },
    {
     "name": "stderr",
     "output_type": "stream",
     "text": []
    },
    {
     "name": "stdout",
     "output_type": "stream",
     "text": [
      "Average epoch 79 loss: 0.015521151538906512\n"
     ]
    },
    {
     "name": "stderr",
     "output_type": "stream",
     "text": []
    },
    {
     "name": "stdout",
     "output_type": "stream",
     "text": [
      "Average epoch 80 loss: 0.015485303444680628\n"
     ]
    },
    {
     "name": "stderr",
     "output_type": "stream",
     "text": []
    },
    {
     "name": "stdout",
     "output_type": "stream",
     "text": [
      "Average epoch 81 loss: 0.015476489128834849\n"
     ]
    },
    {
     "name": "stderr",
     "output_type": "stream",
     "text": []
    },
    {
     "name": "stdout",
     "output_type": "stream",
     "text": [
      "Average epoch 82 loss: 0.015435116628665469\n"
     ]
    },
    {
     "name": "stderr",
     "output_type": "stream",
     "text": []
    },
    {
     "name": "stdout",
     "output_type": "stream",
     "text": [
      "Average epoch 83 loss: 0.015416389098887378\n"
     ]
    },
    {
     "name": "stderr",
     "output_type": "stream",
     "text": []
    },
    {
     "name": "stdout",
     "output_type": "stream",
     "text": [
      "Average epoch 84 loss: 0.015395650486233455\n"
     ]
    },
    {
     "name": "stderr",
     "output_type": "stream",
     "text": []
    },
    {
     "name": "stdout",
     "output_type": "stream",
     "text": [
      "Average epoch 85 loss: 0.015352790599375138\n"
     ]
    },
    {
     "name": "stderr",
     "output_type": "stream",
     "text": []
    },
    {
     "name": "stdout",
     "output_type": "stream",
     "text": [
      "Average epoch 86 loss: 0.015333348156403758\n"
     ]
    },
    {
     "name": "stderr",
     "output_type": "stream",
     "text": []
    },
    {
     "name": "stdout",
     "output_type": "stream",
     "text": [
      "Average epoch 87 loss: 0.01531980114617645\n"
     ]
    },
    {
     "name": "stderr",
     "output_type": "stream",
     "text": []
    },
    {
     "name": "stdout",
     "output_type": "stream",
     "text": [
      "Average epoch 88 loss: 0.015290425236481848\n"
     ]
    },
    {
     "name": "stderr",
     "output_type": "stream",
     "text": []
    },
    {
     "name": "stdout",
     "output_type": "stream",
     "text": [
      "Average epoch 89 loss: 0.015273986987944351\n"
     ]
    },
    {
     "name": "stderr",
     "output_type": "stream",
     "text": []
    },
    {
     "name": "stdout",
     "output_type": "stream",
     "text": [
      "Average epoch 90 loss: 0.015245563705076478\n"
     ]
    },
    {
     "name": "stderr",
     "output_type": "stream",
     "text": []
    },
    {
     "name": "stdout",
     "output_type": "stream",
     "text": [
      "Average epoch 91 loss: 0.015216538214932945\n"
     ]
    },
    {
     "name": "stderr",
     "output_type": "stream",
     "text": []
    },
    {
     "name": "stdout",
     "output_type": "stream",
     "text": [
      "Average epoch 92 loss: 0.015202129916000022\n"
     ]
    },
    {
     "name": "stderr",
     "output_type": "stream",
     "text": []
    },
    {
     "name": "stdout",
     "output_type": "stream",
     "text": [
      "Average epoch 93 loss: 0.015186634073570085\n"
     ]
    },
    {
     "name": "stderr",
     "output_type": "stream",
     "text": []
    },
    {
     "name": "stdout",
     "output_type": "stream",
     "text": [
      "Average epoch 94 loss: 0.015141787868279067\n"
     ]
    },
    {
     "name": "stderr",
     "output_type": "stream",
     "text": []
    },
    {
     "name": "stdout",
     "output_type": "stream",
     "text": [
      "Average epoch 95 loss: 0.01512246280571005\n"
     ]
    },
    {
     "name": "stderr",
     "output_type": "stream",
     "text": []
    },
    {
     "name": "stdout",
     "output_type": "stream",
     "text": [
      "Average epoch 96 loss: 0.015106578007030653\n"
     ]
    },
    {
     "name": "stderr",
     "output_type": "stream",
     "text": []
    },
    {
     "name": "stdout",
     "output_type": "stream",
     "text": [
      "Average epoch 97 loss: 0.01510589287729501\n"
     ]
    },
    {
     "name": "stderr",
     "output_type": "stream",
     "text": []
    },
    {
     "name": "stdout",
     "output_type": "stream",
     "text": [
      "Average epoch 98 loss: 0.015072719020240787\n"
     ]
    },
    {
     "name": "stderr",
     "output_type": "stream",
     "text": []
    },
    {
     "name": "stdout",
     "output_type": "stream",
     "text": [
      "Average epoch 99 loss: 0.015059497307684185\n"
     ]
    }
   ],
   "source": [
    "n_epochs = 100\n",
    "trainer.train(n_epochs=n_epochs, train_loader=train_loader, \n",
    "              loss_func=loss_func, \n",
    "              generator_optimizer=g_optimizer, z_optimizer=z_optimizer,\n",
    "              exp_name=f'Adam_SparseAdam_z_{N_COMPONENTS}_zlr_1e-3_glr_1e-3_{n_epochs}_epochs', model_path='')"
   ]
  },
  {
   "cell_type": "code",
   "execution_count": null,
   "id": "Ct_lkqh2aT8P",
   "metadata": {
    "colab": {
     "base_uri": "https://localhost:8080/"
    },
    "id": "Ct_lkqh2aT8P",
    "outputId": "517209b1-f2cd-4041-f99c-5f51c594aa9b"
   },
   "outputs": [
    {
     "name": "stdout",
     "output_type": "stream",
     "text": [
      "Mounted at /content/drive\n"
     ]
    }
   ],
   "source": [
    "from google.colab import drive\n",
    "drive.mount('/content/drive')"
   ]
  },
  {
   "cell_type": "code",
   "execution_count": null,
   "id": "bQfEeUMCaT2f",
   "metadata": {
    "id": "bQfEeUMCaT2f"
   },
   "outputs": [],
   "source": [
    "!cp /content/Adam_SparseAdam_z_32_zlr_1e-3_glr_1e-3_100_epochs_model.pth /content/drive/MyDrive/GLANN/glo_mnist_models/SOTA_Adam_SparseAdam_z_32_zlr_1e-3_glr_1e-3_100_epochs_model.pth"
   ]
  },
  {
   "cell_type": "code",
   "execution_count": null,
   "id": "hTWuZ6119XBD",
   "metadata": {
    "colab": {
     "base_uri": "https://localhost:8080/"
    },
    "id": "hTWuZ6119XBD",
    "outputId": "d7e280a9-09ad-4765-efc9-94ffe88a5424"
   },
   "outputs": [
    {
     "data": {
      "text/plain": [
       "<All keys matched successfully>"
      ]
     },
     "execution_count": 13,
     "metadata": {},
     "output_type": "execute_result"
    }
   ],
   "source": [
    "model.load_state_dict(torch.load('/content/drive/MyDrive/GLANN/glo_mnist_models/SOTA_Adam_SparseAdam_z_32_zlr_1e-3_glr_1e-3_100_epochs_model.pth'))"
   ]
  },
  {
   "cell_type": "code",
   "execution_count": null,
   "id": "pgQjJnr42LjY",
   "metadata": {
    "id": "pgQjJnr42LjY"
   },
   "outputs": [],
   "source": [
    "z = nn.Parameter(torch.randn(size=(len(val_loader.dataset), N_COMPONENTS), device=device, requires_grad=True))\n",
    "optimizer = torch.optim.SGD([z], lr=5e1)\n",
    "loss_func = LapLoss(max_levels=2, channels=1, device=device)\n",
    "\n",
    "validator = Validator(model, val_loader)"
   ]
  },
  {
   "cell_type": "code",
   "execution_count": null,
   "id": "f715F4T-2LWy",
   "metadata": {
    "colab": {
     "base_uri": "https://localhost:8080/"
    },
    "id": "f715F4T-2LWy",
    "outputId": "d5429ce3-f542-42c0-8b4d-5d03bd6234fd"
   },
   "outputs": [
    {
     "name": "stderr",
     "output_type": "stream",
     "text": [
      "  0%|          | 0/313 [00:00<?, ?it/s]/usr/local/lib/python3.7/dist-packages/torch/nn/functional.py:3635: UserWarning:\n",
      "\n",
      "Default upsampling behavior when mode=bilinear is changed to align_corners=False since 0.4.0. Please specify align_corners=True if the old behavior is desired. See the documentation of nn.Upsample for details.\n",
      "\n"
     ]
    }
   ],
   "source": [
    "z_new, loss = validator.validate(z=z, min_loss=0.02, max_iter=60, loss_func=loss_func, optimizer=optimizer)"
   ]
  },
  {
   "cell_type": "code",
   "execution_count": null,
   "id": "0tfmjBHjYlIo",
   "metadata": {
    "colab": {
     "base_uri": "https://localhost:8080/"
    },
    "id": "0tfmjBHjYlIo",
    "outputId": "7fc3230b-9ba4-41c0-81c8-f8161aff11d0"
   },
   "outputs": [
    {
     "data": {
      "text/plain": [
       "0.04884654502518261"
      ]
     },
     "execution_count": 24,
     "metadata": {},
     "output_type": "execute_result"
    }
   ],
   "source": [
    "loss"
   ]
  },
  {
   "cell_type": "code",
   "execution_count": null,
   "id": "nr2YvxTE2LNj",
   "metadata": {
    "colab": {
     "base_uri": "https://localhost:8080/",
     "height": 791
    },
    "id": "nr2YvxTE2LNj",
    "outputId": "df5a1cc2-56c2-40fd-ad28-3c371221ac92"
   },
   "outputs": [
    {
     "name": "stderr",
     "output_type": "stream",
     "text": [
      "/usr/local/lib/python3.7/dist-packages/torch/nn/functional.py:3635: UserWarning:\n",
      "\n",
      "Default upsampling behavior when mode=bilinear is changed to align_corners=False since 0.4.0. Please specify align_corners=True if the old behavior is desired. See the documentation of nn.Upsample for details.\n",
      "\n"
     ]
    },
    {
     "data": {
      "image/png": "[encoded data removed]",
      "text/plain": [
       "<Figure size 1296x864 with 1 Axes>"
      ]
     },
     "metadata": {
      "needs_background": "light"
     },
     "output_type": "display_data"
    }
   ],
   "source": [
    "idx = torch.randint(low=0, high=len(z), size=(8, ))\n",
    "img = []\n",
    "for i in idx:\n",
    "    img.append(val_loader.dataset[i][1])\n",
    "img = torch.cat(img).view(8, 1, 28, 28)\n",
    "res = validator.visualize_val_results(z=z_new[idx], img=img)\n",
    "plt.figure(figsize=(18, 12))\n",
    "plt.imshow(res)\n",
    "plt.savefig('mnist_val_3.png')"
   ]
  },
  {
   "cell_type": "code",
   "execution_count": null,
   "id": "4QeD-SQPHeN0",
   "metadata": {
    "colab": {
     "base_uri": "https://localhost:8080/"
    },
    "id": "4QeD-SQPHeN0",
    "outputId": "d77089ee-7ee4-49e2-a123-e2054496b759"
   },
   "outputs": [
    {
     "data": {
      "text/plain": [
       "torch.Size([8, 1, 28, 28])"
      ]
     },
     "execution_count": 27,
     "metadata": {},
     "output_type": "execute_result"
    }
   ],
   "source": [
    "img.shape"
   ]
  },
  {
   "cell_type": "code",
   "execution_count": null,
   "id": "WUd7-Vp03TG-",
   "metadata": {
    "id": "WUd7-Vp03TG-"
   },
   "outputs": [],
   "source": [
    "!rm -rf glo-flow"
   ]
  },
  {
   "cell_type": "code",
   "execution_count": null,
   "id": "NDzOw3mA3S7e",
   "metadata": {
    "id": "NDzOw3mA3S7e"
   },
   "outputs": [],
   "source": []
  },
  {
   "cell_type": "markdown",
   "id": "Z-Zw2k-yky97",
   "metadata": {
    "id": "Z-Zw2k-yky97"
   },
   "source": [
    "Now let's look at the model Z distribution!"
   ]
  },
  {
   "cell_type": "code",
   "execution_count": null,
   "id": "OjzswSoCkyTf",
   "metadata": {
    "id": "OjzswSoCkyTf"
   },
   "outputs": [],
   "source": [
    "z_numpy = model.z.weight.detach().cpu().numpy()"
   ]
  },
  {
   "cell_type": "code",
   "execution_count": null,
   "id": "_oOwC70mlQUC",
   "metadata": {
    "colab": {
     "base_uri": "https://localhost:8080/",
     "height": 282
    },
    "id": "_oOwC70mlQUC",
    "outputId": "e991dc1e-32be-432f-dbcc-a23c0f766a8a"
   },
   "outputs": [
    {
     "data": {
      "text/plain": [
       "<matplotlib.legend.Legend at 0x7efebf34e190>"
      ]
     },
     "execution_count": 30,
     "metadata": {},
     "output_type": "execute_result"
    },
    {
     "data": {
      "image/png": "[encoded data removed]",
      "text/plain": [
       "<Figure size 432x288 with 1 Axes>"
      ]
     },
     "metadata": {
      "needs_background": "light"
     },
     "output_type": "display_data"
    }
   ],
   "source": [
    "plt.plot(z_numpy.std(axis=0), label='std')\n",
    "plt.plot(z_numpy.mean(axis=0), label='mean')\n",
    "plt.legend()"
   ]
  },
  {
   "cell_type": "code",
   "execution_count": null,
   "id": "zLT6NisdlBcL",
   "metadata": {
    "colab": {
     "base_uri": "https://localhost:8080/",
     "height": 265
    },
    "id": "zLT6NisdlBcL",
    "outputId": "4f8dbc7d-0837-41cf-fec5-213dbcf2f554"
   },
   "outputs": [
    {
     "data": {
      "image/png": "[encoded data removed]",
      "text/plain": [
       "<Figure size 432x288 with 1 Axes>"
      ]
     },
     "metadata": {
      "needs_background": "light"
     },
     "output_type": "display_data"
    }
   ],
   "source": [
    "_ = plt.hist(z_numpy[:, 0], bins=50)"
   ]
  },
  {
   "cell_type": "code",
   "execution_count": null,
   "id": "VzsrTesxleZa",
   "metadata": {
    "colab": {
     "base_uri": "https://localhost:8080/",
     "height": 282
    },
    "id": "VzsrTesxleZa",
    "outputId": "3e5bb22c-499c-4241-dcda-6046214077b6"
   },
   "outputs": [
    {
     "data": {
      "text/plain": [
       "<matplotlib.collections.PathCollection at 0x7f0d4421f550>"
      ]
     },
     "execution_count": 15,
     "metadata": {},
     "output_type": "execute_result"
    },
    {
     "data": {
      "image/png": "[encoded data removed]",
      "text/plain": [
       "<Figure size 432x288 with 1 Axes>"
      ]
     },
     "metadata": {
      "needs_background": "light"
     },
     "output_type": "display_data"
    }
   ],
   "source": [
    "z_pca = sample_generator.z_dataset[::50, :]\n",
    "cmap = sample_generator.get_classes()[::50]\n",
    "X_embedded = TSNE(n_components=2).fit_transform(z_pca)\n",
    "plt.scatter(X_embedded[:, 0], X_embedded[:, 1], c=cmap)"
   ]
  },
  {
   "cell_type": "code",
   "execution_count": null,
   "id": "0Hly5DlDVccI",
   "metadata": {
    "colab": {
     "base_uri": "https://localhost:8080/",
     "height": 282
    },
    "id": "0Hly5DlDVccI",
    "outputId": "b4c550ad-ff2f-4006-d229-f847a7cd02f3"
   },
   "outputs": [
    {
     "data": {
      "text/plain": [
       "<matplotlib.collections.PathCollection at 0x7f0d4250f810>"
      ]
     },
     "execution_count": 16,
     "metadata": {},
     "output_type": "execute_result"
    },
    {
     "data": {
      "image/png": "[encoded data removed]",
      "text/plain": [
       "<Figure size 432x288 with 1 Axes>"
      ]
     },
     "metadata": {
      "needs_background": "light"
     },
     "output_type": "display_data"
    }
   ],
   "source": [
    "z_model = model.z.weight[::50, :].detach().cpu().numpy()\n",
    "X_embedded = TSNE(n_components=2).fit_transform(z_model)\n",
    "plt.scatter(X_embedded[:, 0], X_embedded[:, 1], c=cmap)"
   ]
  },
  {
   "cell_type": "code",
   "execution_count": null,
   "id": "116debdf-f9ff-4811-96f4-2643adef7f7f",
   "metadata": {
    "id": "116debdf-f9ff-4811-96f4-2643adef7f7f",
    "outputId": "b2e93ed1-0206-46be-9505-d3e742fa7549"
   },
   "outputs": [
    {
     "data": {
      "text/plain": [
       "tensor([1, 3, 5])"
      ]
     },
     "execution_count": 27,
     "metadata": {},
     "output_type": "execute_result"
    }
   ],
   "source": [
    "a = torch.tensor([1, 2, 3])\n",
    "b = torch.tensor([0, 3, 5])\n",
    "torch.amax(torch.vstack([a, b]), dim=0)"
   ]
  },
  {
   "cell_type": "code",
   "execution_count": null,
   "id": "8faf3f0e-7185-4be6-8735-3886f9302bbd",
   "metadata": {
    "id": "8faf3f0e-7185-4be6-8735-3886f9302bbd",
    "outputId": "d91d86c6-6cca-4bb4-bfe9-64d523ec7d24"
   },
   "outputs": [
    {
     "data": {
      "text/plain": [
       "tensor([1, 2, 3])"
      ]
     },
     "execution_count": 22,
     "metadata": {},
     "output_type": "execute_result"
    }
   ],
   "source": [
    "a.long()"
   ]
  },
  {
   "cell_type": "code",
   "execution_count": null,
   "id": "13b5bd8e-f0ed-40fc-beb7-c2af59053a57",
   "metadata": {
    "colab": {
     "base_uri": "https://localhost:8080/"
    },
    "id": "13b5bd8e-f0ed-40fc-beb7-c2af59053a57",
    "outputId": "6f4468b0-b14c-4f8f-8c4e-c84e08ac9ebb"
   },
   "outputs": [
    {
     "name": "stderr",
     "output_type": "stream",
     "text": [
      "COMET INFO: ---------------------------\n",
      "COMET INFO: Comet.ml Experiment Summary\n",
      "COMET INFO: ---------------------------\n",
      "COMET INFO:   Data:\n",
      "COMET INFO:     display_summary_level : 1\n",
      "COMET INFO:     url                   : https://www.comet.ml/alexandernevarko/glo-mnist/e6cdd673a6a445f4b96988585c9e0e6e\n",
      "COMET INFO:   Metrics [count] (min, max):\n",
      "COMET INFO:     Average epoch train loss [25] : (0.06706139348546664, 0.19293082938989004)\n",
      "COMET INFO:     Train loss [46875]            : (0.053143858909606934, 0.24696052074432373)\n",
      "COMET INFO:     loss [5266]                   : (0.053791023790836334, 0.26565197110176086)\n",
      "COMET INFO:   Others:\n",
      "COMET INFO:     Name : LapL1_z_128_zlr_1e2_25_epochs\n",
      "COMET INFO:   Uploads:\n",
      "COMET INFO:     environment details : 1\n",
      "COMET INFO:     filename            : 1\n",
      "COMET INFO:     images              : 25\n",
      "COMET INFO:     installed packages  : 1\n",
      "COMET INFO:     model graph         : 1\n",
      "COMET INFO:     notebook            : 1\n",
      "COMET INFO:     os packages         : 1\n",
      "COMET INFO:     source_code         : 1\n",
      "COMET INFO: ---------------------------\n",
      "COMET INFO: Uploading metrics, params, and assets to Comet before program termination (may take several seconds)\n",
      "COMET INFO: The Python SDK has 3600 seconds to finish before aborting...\n"
     ]
    }
   ],
   "source": [
    "experiment.end()"
   ]
  },
  {
   "cell_type": "code",
   "execution_count": null,
   "id": "0b72dc7e-32d2-404c-8616-cea37a746132",
   "metadata": {
    "id": "0b72dc7e-32d2-404c-8616-cea37a746132"
   },
   "outputs": [],
   "source": []
  }
 ],
 "metadata": {
  "accelerator": "GPU",
  "colab": {
   "collapsed_sections": [],
   "name": "glo_mnist.ipynb",
   "provenance": []
  },
  "kernelspec": {
   "display_name": "Python 3",
   "language": "python",
   "name": "python3"
  },
  "language_info": {
   "codemirror_mode": {
    "name": "ipython",
    "version": 3
   },
   "file_extension": ".py",
   "mimetype": "text/x-python",
   "name": "python",
   "nbconvert_exporter": "python",
   "pygments_lexer": "ipython3",
   "version": "3.8.3"
  }
 },
 "nbformat": 4,
 "nbformat_minor": 5
}

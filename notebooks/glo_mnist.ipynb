{
 "cells": [
  {
   "cell_type": "code",
   "execution_count": 83,
   "id": "daff1500-c281-4cb7-8bed-c358647a3af9",
   "metadata": {},
   "outputs": [],
   "source": [
    "import numpy as np\n",
    "import torch\n",
    "import torchvision\n",
    "from sklearn.decomposition import PCA\n",
    "from sklearn.datasets import fetch_openml\n",
    "from scipy.stats import gaussian_kde\n",
    "import matplotlib.pyplot as plt\n",
    "\n",
    "BW_METHOD = 0.1"
   ]
  },
  {
   "cell_type": "code",
   "execution_count": 2,
   "id": "613ccabe-4902-4b38-b421-1bf56b444464",
   "metadata": {},
   "outputs": [],
   "source": [
    "mnist = fetch_openml(name='mnist_784', version='active')"
   ]
  },
  {
   "cell_type": "code",
   "execution_count": 3,
   "id": "099dd52a-997d-40e1-8c46-24224080b6b3",
   "metadata": {},
   "outputs": [],
   "source": [
    "pca = PCA(n_components=128)\n",
    "data = pca.fit_transform(mnist.data)"
   ]
  },
  {
   "cell_type": "code",
   "execution_count": 4,
   "id": "a497387d-28c8-4318-882d-b036129c51de",
   "metadata": {},
   "outputs": [
    {
     "data": {
      "text/plain": [
       "(128, 70000)"
      ]
     },
     "execution_count": 4,
     "metadata": {},
     "output_type": "execute_result"
    }
   ],
   "source": [
    "data = data.T\n",
    "data.shape"
   ]
  },
  {
   "cell_type": "code",
   "execution_count": 86,
   "id": "3dc63319-0714-4c1e-8415-2e1a6f0b061e",
   "metadata": {},
   "outputs": [
    {
     "data": {
      "image/png": "[encoded data removed]",
      "text/plain": [
       "<Figure size 432x288 with 1 Axes>"
      ]
     },
     "metadata": {
      "needs_background": "light"
     },
     "output_type": "display_data"
    }
   ],
   "source": [
    "i = 1\n",
    "plt.hist(data[i], bins=50)\n",
    "kernel = gaussian_kde(data, bw_method=BW_METHOD)\n",
    "sample = kernel.resample(30_000)\n",
    "_ = plt.hist(sample[i], bins=50)"
   ]
  },
  {
   "cell_type": "code",
   "execution_count": null,
   "id": "bd3b91bb-9f6d-4a21-a580-319a2859a9f3",
   "metadata": {},
   "outputs": [],
   "source": []
  }
 ],
 "metadata": {
  "kernelspec": {
   "display_name": "Python 3",
   "language": "python",
   "name": "python3"
  },
  "language_info": {
   "codemirror_mode": {
    "name": "ipython",
    "version": 3
   },
   "file_extension": ".py",
   "mimetype": "text/x-python",
   "name": "python",
   "nbconvert_exporter": "python",
   "pygments_lexer": "ipython3",
   "version": "3.8.3"
  }
 },
 "nbformat": 4,
 "nbformat_minor": 5
}
